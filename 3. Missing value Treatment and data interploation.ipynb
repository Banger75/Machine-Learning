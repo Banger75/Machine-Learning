{
 "cells": [
  {
   "cell_type": "code",
   "execution_count": 2,
   "id": "52c6cf80-b771-42bc-a197-2b3726cd1a8e",
   "metadata": {},
   "outputs": [],
   "source": [
    "import pandas as pd\n",
    "import seaborn as sns\n",
    "\n",
    "\n",
    "df = sns.load_dataset('titanic')"
   ]
  },
  {
   "cell_type": "code",
   "execution_count": 3,
   "id": "88321cd4-7c25-4584-8c8a-51b69f6a0633",
   "metadata": {},
   "outputs": [
    {
     "data": {
      "text/plain": [
       "(891, 15)"
      ]
     },
     "execution_count": 3,
     "metadata": {},
     "output_type": "execute_result"
    }
   ],
   "source": [
    "df.shape"
   ]
  },
  {
   "cell_type": "code",
   "execution_count": 4,
   "id": "5c8a92cc-53b9-4d9d-bfdc-75f477fba480",
   "metadata": {},
   "outputs": [
    {
     "data": {
      "application/vnd.microsoft.datawrangler.viewer.v0+json": {
       "columns": [
        {
         "name": "index",
         "rawType": "object",
         "type": "string"
        },
        {
         "name": "0",
         "rawType": "int64",
         "type": "integer"
        }
       ],
       "ref": "4d99a29e-2ac0-4554-979f-256b3778d5d8",
       "rows": [
        [
         "survived",
         "0"
        ],
        [
         "pclass",
         "0"
        ],
        [
         "sex",
         "0"
        ],
        [
         "age",
         "177"
        ],
        [
         "sibsp",
         "0"
        ],
        [
         "parch",
         "0"
        ],
        [
         "fare",
         "0"
        ],
        [
         "embarked",
         "2"
        ],
        [
         "class",
         "0"
        ],
        [
         "who",
         "0"
        ],
        [
         "adult_male",
         "0"
        ],
        [
         "deck",
         "688"
        ],
        [
         "embark_town",
         "2"
        ],
        [
         "alive",
         "0"
        ],
        [
         "alone",
         "0"
        ]
       ],
       "shape": {
        "columns": 1,
        "rows": 15
       }
      },
      "text/plain": [
       "survived         0\n",
       "pclass           0\n",
       "sex              0\n",
       "age            177\n",
       "sibsp            0\n",
       "parch            0\n",
       "fare             0\n",
       "embarked         2\n",
       "class            0\n",
       "who              0\n",
       "adult_male       0\n",
       "deck           688\n",
       "embark_town      2\n",
       "alive            0\n",
       "alone            0\n",
       "dtype: int64"
      ]
     },
     "execution_count": 4,
     "metadata": {},
     "output_type": "execute_result"
    }
   ],
   "source": [
    "df.isnull().sum()"
   ]
  },
  {
   "cell_type": "code",
   "execution_count": 5,
   "id": "74ce76dc-6db3-4409-8a71-38bc77dff581",
   "metadata": {},
   "outputs": [
    {
     "data": {
      "application/vnd.microsoft.datawrangler.viewer.v0+json": {
       "columns": [
        {
         "name": "index",
         "rawType": "object",
         "type": "string"
        },
        {
         "name": "0",
         "rawType": "int64",
         "type": "integer"
        }
       ],
       "ref": "42555223-3757-42a0-9b88-47aba78bdab3",
       "rows": [
        [
         "deck",
         "688"
        ],
        [
         "age",
         "177"
        ],
        [
         "embarked",
         "2"
        ],
        [
         "embark_town",
         "2"
        ],
        [
         "sex",
         "0"
        ],
        [
         "pclass",
         "0"
        ],
        [
         "survived",
         "0"
        ],
        [
         "fare",
         "0"
        ],
        [
         "parch",
         "0"
        ],
        [
         "sibsp",
         "0"
        ],
        [
         "class",
         "0"
        ],
        [
         "adult_male",
         "0"
        ],
        [
         "who",
         "0"
        ],
        [
         "alive",
         "0"
        ],
        [
         "alone",
         "0"
        ]
       ],
       "shape": {
        "columns": 1,
        "rows": 15
       }
      },
      "text/plain": [
       "deck           688\n",
       "age            177\n",
       "embarked         2\n",
       "embark_town      2\n",
       "sex              0\n",
       "pclass           0\n",
       "survived         0\n",
       "fare             0\n",
       "parch            0\n",
       "sibsp            0\n",
       "class            0\n",
       "adult_male       0\n",
       "who              0\n",
       "alive            0\n",
       "alone            0\n",
       "dtype: int64"
      ]
     },
     "execution_count": 5,
     "metadata": {},
     "output_type": "execute_result"
    }
   ],
   "source": [
    "df.isnull().sum().sort_values(ascending=False)"
   ]
  },
  {
   "cell_type": "code",
   "execution_count": 6,
   "id": "1b7379d1-d89d-47b8-97d3-813f54c40806",
   "metadata": {},
   "outputs": [
    {
     "data": {
      "application/vnd.microsoft.datawrangler.viewer.v0+json": {
       "columns": [
        {
         "name": "index",
         "rawType": "object",
         "type": "string"
        },
        {
         "name": "0",
         "rawType": "float64",
         "type": "float"
        }
       ],
       "ref": "a5132078-12e2-48b9-818a-1b5ebe34ed53",
       "rows": [
        [
         "deck",
         "77.21661054994388"
        ],
        [
         "age",
         "19.865319865319865"
        ],
        [
         "embarked",
         "0.22446689113355783"
        ],
        [
         "embark_town",
         "0.22446689113355783"
        ],
        [
         "sex",
         "0.0"
        ],
        [
         "pclass",
         "0.0"
        ],
        [
         "survived",
         "0.0"
        ],
        [
         "fare",
         "0.0"
        ],
        [
         "parch",
         "0.0"
        ],
        [
         "sibsp",
         "0.0"
        ],
        [
         "class",
         "0.0"
        ],
        [
         "adult_male",
         "0.0"
        ],
        [
         "who",
         "0.0"
        ],
        [
         "alive",
         "0.0"
        ],
        [
         "alone",
         "0.0"
        ]
       ],
       "shape": {
        "columns": 1,
        "rows": 15
       }
      },
      "text/plain": [
       "deck           77.216611\n",
       "age            19.865320\n",
       "embarked        0.224467\n",
       "embark_town     0.224467\n",
       "sex             0.000000\n",
       "pclass          0.000000\n",
       "survived        0.000000\n",
       "fare            0.000000\n",
       "parch           0.000000\n",
       "sibsp           0.000000\n",
       "class           0.000000\n",
       "adult_male      0.000000\n",
       "who             0.000000\n",
       "alive           0.000000\n",
       "alone           0.000000\n",
       "dtype: float64"
      ]
     },
     "execution_count": 6,
     "metadata": {},
     "output_type": "execute_result"
    }
   ],
   "source": [
    "((df.isnull().sum() / len(df))*100).sort_values(ascending=False)"
   ]
  },
  {
   "cell_type": "code",
   "execution_count": 7,
   "id": "59787b84-af9b-4b0d-9a37-5f27b4368b0a",
   "metadata": {},
   "outputs": [
    {
     "data": {
      "text/plain": [
       "(182, 15)"
      ]
     },
     "execution_count": 7,
     "metadata": {},
     "output_type": "execute_result"
    }
   ],
   "source": [
    "#drop all the rows with na\n",
    "df_dropna = df.dropna()\n",
    "df_dropna.shape"
   ]
  },
  {
   "cell_type": "code",
   "execution_count": 8,
   "id": "b2c7dd92-696b-4298-9f76-b0ec01e74cb4",
   "metadata": {},
   "outputs": [
    {
     "data": {
      "text/plain": [
       "(891, 14)"
      ]
     },
     "execution_count": 8,
     "metadata": {},
     "output_type": "execute_result"
    }
   ],
   "source": [
    "#drp columns with more than 40 percent of null values\n",
    "threshold = 0.4\n",
    "df_dropcols = df.loc[:, df.isnull().mean() < threshold]\n",
    "df_dropcols.shape"
   ]
  },
  {
   "cell_type": "code",
   "execution_count": 9,
   "id": "be1dba03-b46c-4063-904e-e0ca55d48258",
   "metadata": {},
   "outputs": [
    {
     "data": {
      "text/plain": [
       "Index(['survived', 'pclass', 'sex', 'age', 'sibsp', 'parch', 'fare',\n",
       "       'embarked', 'class', 'who', 'adult_male', 'embark_town', 'alive',\n",
       "       'alone'],\n",
       "      dtype='object')"
      ]
     },
     "execution_count": 9,
     "metadata": {},
     "output_type": "execute_result"
    }
   ],
   "source": [
    "df_dropcols.columns"
   ]
  },
  {
   "cell_type": "code",
   "execution_count": 10,
   "id": "2cc9eae8-d864-4ea1-85d4-3e7eb1df64de",
   "metadata": {},
   "outputs": [
    {
     "data": {
      "application/vnd.microsoft.datawrangler.viewer.v0+json": {
       "columns": [
        {
         "name": "index",
         "rawType": "object",
         "type": "string"
        },
        {
         "name": "0",
         "rawType": "int64",
         "type": "integer"
        }
       ],
       "ref": "6fe9f6ce-8738-4815-b6d4-05bd40df6e5e",
       "rows": [
        [
         "survived",
         "0"
        ],
        [
         "pclass",
         "0"
        ],
        [
         "sex",
         "0"
        ],
        [
         "age",
         "177"
        ],
        [
         "sibsp",
         "0"
        ],
        [
         "parch",
         "0"
        ],
        [
         "fare",
         "0"
        ],
        [
         "embarked",
         "2"
        ],
        [
         "class",
         "0"
        ],
        [
         "who",
         "0"
        ],
        [
         "adult_male",
         "0"
        ],
        [
         "deck",
         "688"
        ],
        [
         "embark_town",
         "2"
        ],
        [
         "alive",
         "0"
        ],
        [
         "alone",
         "0"
        ]
       ],
       "shape": {
        "columns": 1,
        "rows": 15
       }
      },
      "text/plain": [
       "survived         0\n",
       "pclass           0\n",
       "sex              0\n",
       "age            177\n",
       "sibsp            0\n",
       "parch            0\n",
       "fare             0\n",
       "embarked         2\n",
       "class            0\n",
       "who              0\n",
       "adult_male       0\n",
       "deck           688\n",
       "embark_town      2\n",
       "alive            0\n",
       "alone            0\n",
       "dtype: int64"
      ]
     },
     "execution_count": 10,
     "metadata": {},
     "output_type": "execute_result"
    }
   ],
   "source": [
    "#imputation\n",
    "\n",
    "df.isna().sum()"
   ]
  },
  {
   "cell_type": "code",
   "execution_count": 11,
   "id": "3cf65af7-6d01-491a-80fc-c34de74daf4f",
   "metadata": {},
   "outputs": [
    {
     "data": {
      "text/plain": [
       "np.float64(29.69911764705882)"
      ]
     },
     "execution_count": 11,
     "metadata": {},
     "output_type": "execute_result"
    }
   ],
   "source": [
    "df.age.mean()"
   ]
  },
  {
   "cell_type": "code",
   "execution_count": 12,
   "id": "6e8ed7cd-001c-40a7-a828-4b95b04ef25b",
   "metadata": {},
   "outputs": [
    {
     "data": {
      "application/vnd.microsoft.datawrangler.viewer.v0+json": {
       "columns": [
        {
         "name": "index",
         "rawType": "int64",
         "type": "integer"
        },
        {
         "name": "age",
         "rawType": "float64",
         "type": "float"
        }
       ],
       "ref": "4043dd80-a182-460f-b94b-5836de7dad4b",
       "rows": [
        [
         "0",
         "22.0"
        ],
        [
         "1",
         "38.0"
        ],
        [
         "2",
         "26.0"
        ],
        [
         "3",
         "35.0"
        ],
        [
         "4",
         "35.0"
        ],
        [
         "5",
         "29.69911764705882"
        ],
        [
         "6",
         "54.0"
        ],
        [
         "7",
         "2.0"
        ],
        [
         "8",
         "27.0"
        ],
        [
         "9",
         "14.0"
        ],
        [
         "10",
         "4.0"
        ],
        [
         "11",
         "58.0"
        ],
        [
         "12",
         "20.0"
        ],
        [
         "13",
         "39.0"
        ],
        [
         "14",
         "14.0"
        ],
        [
         "15",
         "55.0"
        ],
        [
         "16",
         "2.0"
        ],
        [
         "17",
         "29.69911764705882"
        ],
        [
         "18",
         "31.0"
        ],
        [
         "19",
         "29.69911764705882"
        ],
        [
         "20",
         "35.0"
        ],
        [
         "21",
         "34.0"
        ],
        [
         "22",
         "15.0"
        ],
        [
         "23",
         "28.0"
        ],
        [
         "24",
         "8.0"
        ],
        [
         "25",
         "38.0"
        ],
        [
         "26",
         "29.69911764705882"
        ],
        [
         "27",
         "19.0"
        ],
        [
         "28",
         "29.69911764705882"
        ],
        [
         "29",
         "29.69911764705882"
        ],
        [
         "30",
         "40.0"
        ],
        [
         "31",
         "29.69911764705882"
        ],
        [
         "32",
         "29.69911764705882"
        ],
        [
         "33",
         "66.0"
        ],
        [
         "34",
         "28.0"
        ],
        [
         "35",
         "42.0"
        ],
        [
         "36",
         "29.69911764705882"
        ],
        [
         "37",
         "21.0"
        ],
        [
         "38",
         "18.0"
        ],
        [
         "39",
         "14.0"
        ],
        [
         "40",
         "40.0"
        ],
        [
         "41",
         "27.0"
        ],
        [
         "42",
         "29.69911764705882"
        ],
        [
         "43",
         "3.0"
        ],
        [
         "44",
         "19.0"
        ],
        [
         "45",
         "29.69911764705882"
        ],
        [
         "46",
         "29.69911764705882"
        ],
        [
         "47",
         "29.69911764705882"
        ],
        [
         "48",
         "29.69911764705882"
        ],
        [
         "49",
         "18.0"
        ]
       ],
       "shape": {
        "columns": 1,
        "rows": 891
       }
      },
      "text/plain": [
       "0      22.000000\n",
       "1      38.000000\n",
       "2      26.000000\n",
       "3      35.000000\n",
       "4      35.000000\n",
       "         ...    \n",
       "886    27.000000\n",
       "887    19.000000\n",
       "888    29.699118\n",
       "889    26.000000\n",
       "890    32.000000\n",
       "Name: age, Length: 891, dtype: float64"
      ]
     },
     "execution_count": 12,
     "metadata": {},
     "output_type": "execute_result"
    }
   ],
   "source": [
    "#mean\n",
    "df.age.fillna(df.age.mean())"
   ]
  },
  {
   "cell_type": "code",
   "execution_count": 13,
   "id": "067ddc7d-f17f-429e-97ae-c97e5e589338",
   "metadata": {},
   "outputs": [
    {
     "data": {
      "application/vnd.microsoft.datawrangler.viewer.v0+json": {
       "columns": [
        {
         "name": "index",
         "rawType": "int64",
         "type": "integer"
        },
        {
         "name": "age",
         "rawType": "float64",
         "type": "float"
        }
       ],
       "ref": "3b15a844-6f83-4f7d-92d5-5ceaabde1ff7",
       "rows": [
        [
         "0",
         "22.0"
        ],
        [
         "1",
         "38.0"
        ],
        [
         "2",
         "26.0"
        ],
        [
         "3",
         "35.0"
        ],
        [
         "4",
         "35.0"
        ],
        [
         "5",
         "28.0"
        ],
        [
         "6",
         "54.0"
        ],
        [
         "7",
         "2.0"
        ],
        [
         "8",
         "27.0"
        ],
        [
         "9",
         "14.0"
        ],
        [
         "10",
         "4.0"
        ],
        [
         "11",
         "58.0"
        ],
        [
         "12",
         "20.0"
        ],
        [
         "13",
         "39.0"
        ],
        [
         "14",
         "14.0"
        ],
        [
         "15",
         "55.0"
        ],
        [
         "16",
         "2.0"
        ],
        [
         "17",
         "28.0"
        ],
        [
         "18",
         "31.0"
        ],
        [
         "19",
         "28.0"
        ],
        [
         "20",
         "35.0"
        ],
        [
         "21",
         "34.0"
        ],
        [
         "22",
         "15.0"
        ],
        [
         "23",
         "28.0"
        ],
        [
         "24",
         "8.0"
        ],
        [
         "25",
         "38.0"
        ],
        [
         "26",
         "28.0"
        ],
        [
         "27",
         "19.0"
        ],
        [
         "28",
         "28.0"
        ],
        [
         "29",
         "28.0"
        ],
        [
         "30",
         "40.0"
        ],
        [
         "31",
         "28.0"
        ],
        [
         "32",
         "28.0"
        ],
        [
         "33",
         "66.0"
        ],
        [
         "34",
         "28.0"
        ],
        [
         "35",
         "42.0"
        ],
        [
         "36",
         "28.0"
        ],
        [
         "37",
         "21.0"
        ],
        [
         "38",
         "18.0"
        ],
        [
         "39",
         "14.0"
        ],
        [
         "40",
         "40.0"
        ],
        [
         "41",
         "27.0"
        ],
        [
         "42",
         "28.0"
        ],
        [
         "43",
         "3.0"
        ],
        [
         "44",
         "19.0"
        ],
        [
         "45",
         "28.0"
        ],
        [
         "46",
         "28.0"
        ],
        [
         "47",
         "28.0"
        ],
        [
         "48",
         "28.0"
        ],
        [
         "49",
         "18.0"
        ]
       ],
       "shape": {
        "columns": 1,
        "rows": 891
       }
      },
      "text/plain": [
       "0      22.0\n",
       "1      38.0\n",
       "2      26.0\n",
       "3      35.0\n",
       "4      35.0\n",
       "       ... \n",
       "886    27.0\n",
       "887    19.0\n",
       "888    28.0\n",
       "889    26.0\n",
       "890    32.0\n",
       "Name: age, Length: 891, dtype: float64"
      ]
     },
     "execution_count": 13,
     "metadata": {},
     "output_type": "execute_result"
    }
   ],
   "source": [
    "#median\n",
    "df.age.fillna(df.age.median())"
   ]
  },
  {
   "cell_type": "code",
   "execution_count": 14,
   "id": "63d7b4a6-edde-45fa-93f2-4d8863c7eaef",
   "metadata": {},
   "outputs": [
    {
     "data": {
      "application/vnd.microsoft.datawrangler.viewer.v0+json": {
       "columns": [
        {
         "name": "index",
         "rawType": "int64",
         "type": "integer"
        },
        {
         "name": "age",
         "rawType": "float64",
         "type": "float"
        }
       ],
       "ref": "f80703af-68c8-4512-b204-534e65334e34",
       "rows": [
        [
         "0",
         "22.0"
        ],
        [
         "1",
         "38.0"
        ],
        [
         "2",
         "26.0"
        ],
        [
         "3",
         "35.0"
        ],
        [
         "4",
         "35.0"
        ],
        [
         "5",
         "0.0"
        ],
        [
         "6",
         "54.0"
        ],
        [
         "7",
         "2.0"
        ],
        [
         "8",
         "27.0"
        ],
        [
         "9",
         "14.0"
        ],
        [
         "10",
         "4.0"
        ],
        [
         "11",
         "58.0"
        ],
        [
         "12",
         "20.0"
        ],
        [
         "13",
         "39.0"
        ],
        [
         "14",
         "14.0"
        ],
        [
         "15",
         "55.0"
        ],
        [
         "16",
         "2.0"
        ],
        [
         "17",
         "0.0"
        ],
        [
         "18",
         "31.0"
        ],
        [
         "19",
         "0.0"
        ],
        [
         "20",
         "35.0"
        ],
        [
         "21",
         "34.0"
        ],
        [
         "22",
         "15.0"
        ],
        [
         "23",
         "28.0"
        ],
        [
         "24",
         "8.0"
        ],
        [
         "25",
         "38.0"
        ],
        [
         "26",
         "0.0"
        ],
        [
         "27",
         "19.0"
        ],
        [
         "28",
         "0.0"
        ],
        [
         "29",
         "0.0"
        ],
        [
         "30",
         "40.0"
        ],
        [
         "31",
         "0.0"
        ],
        [
         "32",
         "0.0"
        ],
        [
         "33",
         "66.0"
        ],
        [
         "34",
         "28.0"
        ],
        [
         "35",
         "42.0"
        ],
        [
         "36",
         "0.0"
        ],
        [
         "37",
         "21.0"
        ],
        [
         "38",
         "18.0"
        ],
        [
         "39",
         "14.0"
        ],
        [
         "40",
         "40.0"
        ],
        [
         "41",
         "27.0"
        ],
        [
         "42",
         "0.0"
        ],
        [
         "43",
         "3.0"
        ],
        [
         "44",
         "19.0"
        ],
        [
         "45",
         "0.0"
        ],
        [
         "46",
         "0.0"
        ],
        [
         "47",
         "0.0"
        ],
        [
         "48",
         "0.0"
        ],
        [
         "49",
         "18.0"
        ]
       ],
       "shape": {
        "columns": 1,
        "rows": 891
       }
      },
      "text/plain": [
       "0      22.0\n",
       "1      38.0\n",
       "2      26.0\n",
       "3      35.0\n",
       "4      35.0\n",
       "       ... \n",
       "886    27.0\n",
       "887    19.0\n",
       "888     0.0\n",
       "889    26.0\n",
       "890    32.0\n",
       "Name: age, Length: 891, dtype: float64"
      ]
     },
     "execution_count": 14,
     "metadata": {},
     "output_type": "execute_result"
    }
   ],
   "source": [
    "#constant\n",
    "df.age.fillna(0)"
   ]
  },
  {
   "cell_type": "code",
   "execution_count": 15,
   "id": "c2207c66-6d96-486e-be77-bdbe371bb293",
   "metadata": {},
   "outputs": [
    {
     "data": {
      "application/vnd.microsoft.datawrangler.viewer.v0+json": {
       "columns": [
        {
         "name": "index",
         "rawType": "int64",
         "type": "integer"
        },
        {
         "name": "embarked",
         "rawType": "object",
         "type": "unknown"
        }
       ],
       "ref": "97ce87f8-aadd-453f-a525-9dd618059ce2",
       "rows": [
        [
         "0",
         "S"
        ],
        [
         "1",
         "C"
        ],
        [
         "2",
         "S"
        ],
        [
         "3",
         "S"
        ],
        [
         "4",
         "S"
        ],
        [
         "5",
         "Q"
        ],
        [
         "6",
         "S"
        ],
        [
         "7",
         "S"
        ],
        [
         "8",
         "S"
        ],
        [
         "9",
         "C"
        ],
        [
         "10",
         "S"
        ],
        [
         "11",
         "S"
        ],
        [
         "12",
         "S"
        ],
        [
         "13",
         "S"
        ],
        [
         "14",
         "S"
        ],
        [
         "15",
         "S"
        ],
        [
         "16",
         "Q"
        ],
        [
         "17",
         "S"
        ],
        [
         "18",
         "S"
        ],
        [
         "19",
         "C"
        ],
        [
         "20",
         "S"
        ],
        [
         "21",
         "S"
        ],
        [
         "22",
         "Q"
        ],
        [
         "23",
         "S"
        ],
        [
         "24",
         "S"
        ],
        [
         "25",
         "S"
        ],
        [
         "26",
         "C"
        ],
        [
         "27",
         "S"
        ],
        [
         "28",
         "Q"
        ],
        [
         "29",
         "S"
        ],
        [
         "30",
         "C"
        ],
        [
         "31",
         "C"
        ],
        [
         "32",
         "Q"
        ],
        [
         "33",
         "S"
        ],
        [
         "34",
         "C"
        ],
        [
         "35",
         "S"
        ],
        [
         "36",
         "C"
        ],
        [
         "37",
         "S"
        ],
        [
         "38",
         "S"
        ],
        [
         "39",
         "C"
        ],
        [
         "40",
         "S"
        ],
        [
         "41",
         "S"
        ],
        [
         "42",
         "C"
        ],
        [
         "43",
         "C"
        ],
        [
         "44",
         "Q"
        ],
        [
         "45",
         "S"
        ],
        [
         "46",
         "Q"
        ],
        [
         "47",
         "Q"
        ],
        [
         "48",
         "C"
        ],
        [
         "49",
         "S"
        ]
       ],
       "shape": {
        "columns": 1,
        "rows": 891
       }
      },
      "text/plain": [
       "0      S\n",
       "1      C\n",
       "2      S\n",
       "3      S\n",
       "4      S\n",
       "      ..\n",
       "886    S\n",
       "887    S\n",
       "888    S\n",
       "889    C\n",
       "890    Q\n",
       "Name: embarked, Length: 891, dtype: object"
      ]
     },
     "execution_count": 15,
     "metadata": {},
     "output_type": "execute_result"
    }
   ],
   "source": [
    "#mode for categorical data\n",
    "df.embarked.fillna(df.embarked.mode())"
   ]
  },
  {
   "cell_type": "code",
   "execution_count": 16,
   "id": "33a21e49-e9d4-4941-9643-4d9d12a46df2",
   "metadata": {},
   "outputs": [],
   "source": [
    "#mean, median, mode, constant using simple imputer"
   ]
  },
  {
   "cell_type": "code",
   "execution_count": 17,
   "id": "5f388d96-a678-42b1-89dd-50fc634cc0ba",
   "metadata": {},
   "outputs": [],
   "source": [
    "df_simple = df.copy()"
   ]
  },
  {
   "cell_type": "code",
   "execution_count": 18,
   "id": "ea162981-c950-4cdf-bd84-7adbb2e5f448",
   "metadata": {},
   "outputs": [
    {
     "data": {
      "application/vnd.microsoft.datawrangler.viewer.v0+json": {
       "columns": [
        {
         "name": "index",
         "rawType": "object",
         "type": "string"
        },
        {
         "name": "0",
         "rawType": "int64",
         "type": "integer"
        }
       ],
       "ref": "5602ff9d-e1da-454c-bf52-824838e31595",
       "rows": [
        [
         "survived",
         "0"
        ],
        [
         "pclass",
         "0"
        ],
        [
         "sex",
         "0"
        ],
        [
         "age",
         "177"
        ],
        [
         "sibsp",
         "0"
        ],
        [
         "parch",
         "0"
        ],
        [
         "fare",
         "0"
        ],
        [
         "embarked",
         "2"
        ],
        [
         "class",
         "0"
        ],
        [
         "who",
         "0"
        ],
        [
         "adult_male",
         "0"
        ],
        [
         "deck",
         "688"
        ],
        [
         "embark_town",
         "2"
        ],
        [
         "alive",
         "0"
        ],
        [
         "alone",
         "0"
        ]
       ],
       "shape": {
        "columns": 1,
        "rows": 15
       }
      },
      "text/plain": [
       "survived         0\n",
       "pclass           0\n",
       "sex              0\n",
       "age            177\n",
       "sibsp            0\n",
       "parch            0\n",
       "fare             0\n",
       "embarked         2\n",
       "class            0\n",
       "who              0\n",
       "adult_male       0\n",
       "deck           688\n",
       "embark_town      2\n",
       "alive            0\n",
       "alone            0\n",
       "dtype: int64"
      ]
     },
     "execution_count": 18,
     "metadata": {},
     "output_type": "execute_result"
    }
   ],
   "source": [
    "df_simple.isnull().sum()"
   ]
  },
  {
   "cell_type": "code",
   "execution_count": 19,
   "id": "a55e5b2d-03ca-47b5-a329-6d9f37e56b00",
   "metadata": {},
   "outputs": [],
   "source": [
    "from sklearn.impute import SimpleImputer\n",
    "\n",
    "# The imputation strategy.\n",
    "\n",
    "# If “mean”, then replace missing values using the mean along each column. Can only be used with numeric data.\n",
    "\n",
    "# If “median”, then replace missing values using the median along each column. Can only be used with numeric data.\n",
    "\n",
    "# If “most_frequent”, then replace missing using the most frequent value along each column. Can be used with strings or numeric data. If there is more than one such value, only the smallest is returned.\n",
    "\n",
    "# If “constant”, then replace missing values with fill_value. Can be used with strings or numeric data."
   ]
  },
  {
   "cell_type": "code",
   "execution_count": 20,
   "id": "aa8fb0b2-7b11-4739-9358-e97387d4346c",
   "metadata": {},
   "outputs": [
    {
     "data": {
      "text/html": [
       "<style>#sk-container-id-1 {\n",
       "  /* Definition of color scheme common for light and dark mode */\n",
       "  --sklearn-color-text: #000;\n",
       "  --sklearn-color-text-muted: #666;\n",
       "  --sklearn-color-line: gray;\n",
       "  /* Definition of color scheme for unfitted estimators */\n",
       "  --sklearn-color-unfitted-level-0: #fff5e6;\n",
       "  --sklearn-color-unfitted-level-1: #f6e4d2;\n",
       "  --sklearn-color-unfitted-level-2: #ffe0b3;\n",
       "  --sklearn-color-unfitted-level-3: chocolate;\n",
       "  /* Definition of color scheme for fitted estimators */\n",
       "  --sklearn-color-fitted-level-0: #f0f8ff;\n",
       "  --sklearn-color-fitted-level-1: #d4ebff;\n",
       "  --sklearn-color-fitted-level-2: #b3dbfd;\n",
       "  --sklearn-color-fitted-level-3: cornflowerblue;\n",
       "\n",
       "  /* Specific color for light theme */\n",
       "  --sklearn-color-text-on-default-background: var(--sg-text-color, var(--theme-code-foreground, var(--jp-content-font-color1, black)));\n",
       "  --sklearn-color-background: var(--sg-background-color, var(--theme-background, var(--jp-layout-color0, white)));\n",
       "  --sklearn-color-border-box: var(--sg-text-color, var(--theme-code-foreground, var(--jp-content-font-color1, black)));\n",
       "  --sklearn-color-icon: #696969;\n",
       "\n",
       "  @media (prefers-color-scheme: dark) {\n",
       "    /* Redefinition of color scheme for dark theme */\n",
       "    --sklearn-color-text-on-default-background: var(--sg-text-color, var(--theme-code-foreground, var(--jp-content-font-color1, white)));\n",
       "    --sklearn-color-background: var(--sg-background-color, var(--theme-background, var(--jp-layout-color0, #111)));\n",
       "    --sklearn-color-border-box: var(--sg-text-color, var(--theme-code-foreground, var(--jp-content-font-color1, white)));\n",
       "    --sklearn-color-icon: #878787;\n",
       "  }\n",
       "}\n",
       "\n",
       "#sk-container-id-1 {\n",
       "  color: var(--sklearn-color-text);\n",
       "}\n",
       "\n",
       "#sk-container-id-1 pre {\n",
       "  padding: 0;\n",
       "}\n",
       "\n",
       "#sk-container-id-1 input.sk-hidden--visually {\n",
       "  border: 0;\n",
       "  clip: rect(1px 1px 1px 1px);\n",
       "  clip: rect(1px, 1px, 1px, 1px);\n",
       "  height: 1px;\n",
       "  margin: -1px;\n",
       "  overflow: hidden;\n",
       "  padding: 0;\n",
       "  position: absolute;\n",
       "  width: 1px;\n",
       "}\n",
       "\n",
       "#sk-container-id-1 div.sk-dashed-wrapped {\n",
       "  border: 1px dashed var(--sklearn-color-line);\n",
       "  margin: 0 0.4em 0.5em 0.4em;\n",
       "  box-sizing: border-box;\n",
       "  padding-bottom: 0.4em;\n",
       "  background-color: var(--sklearn-color-background);\n",
       "}\n",
       "\n",
       "#sk-container-id-1 div.sk-container {\n",
       "  /* jupyter's `normalize.less` sets `[hidden] { display: none; }`\n",
       "     but bootstrap.min.css set `[hidden] { display: none !important; }`\n",
       "     so we also need the `!important` here to be able to override the\n",
       "     default hidden behavior on the sphinx rendered scikit-learn.org.\n",
       "     See: https://github.com/scikit-learn/scikit-learn/issues/21755 */\n",
       "  display: inline-block !important;\n",
       "  position: relative;\n",
       "}\n",
       "\n",
       "#sk-container-id-1 div.sk-text-repr-fallback {\n",
       "  display: none;\n",
       "}\n",
       "\n",
       "div.sk-parallel-item,\n",
       "div.sk-serial,\n",
       "div.sk-item {\n",
       "  /* draw centered vertical line to link estimators */\n",
       "  background-image: linear-gradient(var(--sklearn-color-text-on-default-background), var(--sklearn-color-text-on-default-background));\n",
       "  background-size: 2px 100%;\n",
       "  background-repeat: no-repeat;\n",
       "  background-position: center center;\n",
       "}\n",
       "\n",
       "/* Parallel-specific style estimator block */\n",
       "\n",
       "#sk-container-id-1 div.sk-parallel-item::after {\n",
       "  content: \"\";\n",
       "  width: 100%;\n",
       "  border-bottom: 2px solid var(--sklearn-color-text-on-default-background);\n",
       "  flex-grow: 1;\n",
       "}\n",
       "\n",
       "#sk-container-id-1 div.sk-parallel {\n",
       "  display: flex;\n",
       "  align-items: stretch;\n",
       "  justify-content: center;\n",
       "  background-color: var(--sklearn-color-background);\n",
       "  position: relative;\n",
       "}\n",
       "\n",
       "#sk-container-id-1 div.sk-parallel-item {\n",
       "  display: flex;\n",
       "  flex-direction: column;\n",
       "}\n",
       "\n",
       "#sk-container-id-1 div.sk-parallel-item:first-child::after {\n",
       "  align-self: flex-end;\n",
       "  width: 50%;\n",
       "}\n",
       "\n",
       "#sk-container-id-1 div.sk-parallel-item:last-child::after {\n",
       "  align-self: flex-start;\n",
       "  width: 50%;\n",
       "}\n",
       "\n",
       "#sk-container-id-1 div.sk-parallel-item:only-child::after {\n",
       "  width: 0;\n",
       "}\n",
       "\n",
       "/* Serial-specific style estimator block */\n",
       "\n",
       "#sk-container-id-1 div.sk-serial {\n",
       "  display: flex;\n",
       "  flex-direction: column;\n",
       "  align-items: center;\n",
       "  background-color: var(--sklearn-color-background);\n",
       "  padding-right: 1em;\n",
       "  padding-left: 1em;\n",
       "}\n",
       "\n",
       "\n",
       "/* Toggleable style: style used for estimator/Pipeline/ColumnTransformer box that is\n",
       "clickable and can be expanded/collapsed.\n",
       "- Pipeline and ColumnTransformer use this feature and define the default style\n",
       "- Estimators will overwrite some part of the style using the `sk-estimator` class\n",
       "*/\n",
       "\n",
       "/* Pipeline and ColumnTransformer style (default) */\n",
       "\n",
       "#sk-container-id-1 div.sk-toggleable {\n",
       "  /* Default theme specific background. It is overwritten whether we have a\n",
       "  specific estimator or a Pipeline/ColumnTransformer */\n",
       "  background-color: var(--sklearn-color-background);\n",
       "}\n",
       "\n",
       "/* Toggleable label */\n",
       "#sk-container-id-1 label.sk-toggleable__label {\n",
       "  cursor: pointer;\n",
       "  display: flex;\n",
       "  width: 100%;\n",
       "  margin-bottom: 0;\n",
       "  padding: 0.5em;\n",
       "  box-sizing: border-box;\n",
       "  text-align: center;\n",
       "  align-items: start;\n",
       "  justify-content: space-between;\n",
       "  gap: 0.5em;\n",
       "}\n",
       "\n",
       "#sk-container-id-1 label.sk-toggleable__label .caption {\n",
       "  font-size: 0.6rem;\n",
       "  font-weight: lighter;\n",
       "  color: var(--sklearn-color-text-muted);\n",
       "}\n",
       "\n",
       "#sk-container-id-1 label.sk-toggleable__label-arrow:before {\n",
       "  /* Arrow on the left of the label */\n",
       "  content: \"▸\";\n",
       "  float: left;\n",
       "  margin-right: 0.25em;\n",
       "  color: var(--sklearn-color-icon);\n",
       "}\n",
       "\n",
       "#sk-container-id-1 label.sk-toggleable__label-arrow:hover:before {\n",
       "  color: var(--sklearn-color-text);\n",
       "}\n",
       "\n",
       "/* Toggleable content - dropdown */\n",
       "\n",
       "#sk-container-id-1 div.sk-toggleable__content {\n",
       "  display: none;\n",
       "  text-align: left;\n",
       "  /* unfitted */\n",
       "  background-color: var(--sklearn-color-unfitted-level-0);\n",
       "}\n",
       "\n",
       "#sk-container-id-1 div.sk-toggleable__content.fitted {\n",
       "  /* fitted */\n",
       "  background-color: var(--sklearn-color-fitted-level-0);\n",
       "}\n",
       "\n",
       "#sk-container-id-1 div.sk-toggleable__content pre {\n",
       "  margin: 0.2em;\n",
       "  border-radius: 0.25em;\n",
       "  color: var(--sklearn-color-text);\n",
       "  /* unfitted */\n",
       "  background-color: var(--sklearn-color-unfitted-level-0);\n",
       "}\n",
       "\n",
       "#sk-container-id-1 div.sk-toggleable__content.fitted pre {\n",
       "  /* unfitted */\n",
       "  background-color: var(--sklearn-color-fitted-level-0);\n",
       "}\n",
       "\n",
       "#sk-container-id-1 input.sk-toggleable__control:checked~div.sk-toggleable__content {\n",
       "  /* Expand drop-down */\n",
       "  display: block;\n",
       "  width: 100%;\n",
       "  overflow: visible;\n",
       "}\n",
       "\n",
       "#sk-container-id-1 input.sk-toggleable__control:checked~label.sk-toggleable__label-arrow:before {\n",
       "  content: \"▾\";\n",
       "}\n",
       "\n",
       "/* Pipeline/ColumnTransformer-specific style */\n",
       "\n",
       "#sk-container-id-1 div.sk-label input.sk-toggleable__control:checked~label.sk-toggleable__label {\n",
       "  color: var(--sklearn-color-text);\n",
       "  background-color: var(--sklearn-color-unfitted-level-2);\n",
       "}\n",
       "\n",
       "#sk-container-id-1 div.sk-label.fitted input.sk-toggleable__control:checked~label.sk-toggleable__label {\n",
       "  background-color: var(--sklearn-color-fitted-level-2);\n",
       "}\n",
       "\n",
       "/* Estimator-specific style */\n",
       "\n",
       "/* Colorize estimator box */\n",
       "#sk-container-id-1 div.sk-estimator input.sk-toggleable__control:checked~label.sk-toggleable__label {\n",
       "  /* unfitted */\n",
       "  background-color: var(--sklearn-color-unfitted-level-2);\n",
       "}\n",
       "\n",
       "#sk-container-id-1 div.sk-estimator.fitted input.sk-toggleable__control:checked~label.sk-toggleable__label {\n",
       "  /* fitted */\n",
       "  background-color: var(--sklearn-color-fitted-level-2);\n",
       "}\n",
       "\n",
       "#sk-container-id-1 div.sk-label label.sk-toggleable__label,\n",
       "#sk-container-id-1 div.sk-label label {\n",
       "  /* The background is the default theme color */\n",
       "  color: var(--sklearn-color-text-on-default-background);\n",
       "}\n",
       "\n",
       "/* On hover, darken the color of the background */\n",
       "#sk-container-id-1 div.sk-label:hover label.sk-toggleable__label {\n",
       "  color: var(--sklearn-color-text);\n",
       "  background-color: var(--sklearn-color-unfitted-level-2);\n",
       "}\n",
       "\n",
       "/* Label box, darken color on hover, fitted */\n",
       "#sk-container-id-1 div.sk-label.fitted:hover label.sk-toggleable__label.fitted {\n",
       "  color: var(--sklearn-color-text);\n",
       "  background-color: var(--sklearn-color-fitted-level-2);\n",
       "}\n",
       "\n",
       "/* Estimator label */\n",
       "\n",
       "#sk-container-id-1 div.sk-label label {\n",
       "  font-family: monospace;\n",
       "  font-weight: bold;\n",
       "  display: inline-block;\n",
       "  line-height: 1.2em;\n",
       "}\n",
       "\n",
       "#sk-container-id-1 div.sk-label-container {\n",
       "  text-align: center;\n",
       "}\n",
       "\n",
       "/* Estimator-specific */\n",
       "#sk-container-id-1 div.sk-estimator {\n",
       "  font-family: monospace;\n",
       "  border: 1px dotted var(--sklearn-color-border-box);\n",
       "  border-radius: 0.25em;\n",
       "  box-sizing: border-box;\n",
       "  margin-bottom: 0.5em;\n",
       "  /* unfitted */\n",
       "  background-color: var(--sklearn-color-unfitted-level-0);\n",
       "}\n",
       "\n",
       "#sk-container-id-1 div.sk-estimator.fitted {\n",
       "  /* fitted */\n",
       "  background-color: var(--sklearn-color-fitted-level-0);\n",
       "}\n",
       "\n",
       "/* on hover */\n",
       "#sk-container-id-1 div.sk-estimator:hover {\n",
       "  /* unfitted */\n",
       "  background-color: var(--sklearn-color-unfitted-level-2);\n",
       "}\n",
       "\n",
       "#sk-container-id-1 div.sk-estimator.fitted:hover {\n",
       "  /* fitted */\n",
       "  background-color: var(--sklearn-color-fitted-level-2);\n",
       "}\n",
       "\n",
       "/* Specification for estimator info (e.g. \"i\" and \"?\") */\n",
       "\n",
       "/* Common style for \"i\" and \"?\" */\n",
       "\n",
       ".sk-estimator-doc-link,\n",
       "a:link.sk-estimator-doc-link,\n",
       "a:visited.sk-estimator-doc-link {\n",
       "  float: right;\n",
       "  font-size: smaller;\n",
       "  line-height: 1em;\n",
       "  font-family: monospace;\n",
       "  background-color: var(--sklearn-color-background);\n",
       "  border-radius: 1em;\n",
       "  height: 1em;\n",
       "  width: 1em;\n",
       "  text-decoration: none !important;\n",
       "  margin-left: 0.5em;\n",
       "  text-align: center;\n",
       "  /* unfitted */\n",
       "  border: var(--sklearn-color-unfitted-level-1) 1pt solid;\n",
       "  color: var(--sklearn-color-unfitted-level-1);\n",
       "}\n",
       "\n",
       ".sk-estimator-doc-link.fitted,\n",
       "a:link.sk-estimator-doc-link.fitted,\n",
       "a:visited.sk-estimator-doc-link.fitted {\n",
       "  /* fitted */\n",
       "  border: var(--sklearn-color-fitted-level-1) 1pt solid;\n",
       "  color: var(--sklearn-color-fitted-level-1);\n",
       "}\n",
       "\n",
       "/* On hover */\n",
       "div.sk-estimator:hover .sk-estimator-doc-link:hover,\n",
       ".sk-estimator-doc-link:hover,\n",
       "div.sk-label-container:hover .sk-estimator-doc-link:hover,\n",
       ".sk-estimator-doc-link:hover {\n",
       "  /* unfitted */\n",
       "  background-color: var(--sklearn-color-unfitted-level-3);\n",
       "  color: var(--sklearn-color-background);\n",
       "  text-decoration: none;\n",
       "}\n",
       "\n",
       "div.sk-estimator.fitted:hover .sk-estimator-doc-link.fitted:hover,\n",
       ".sk-estimator-doc-link.fitted:hover,\n",
       "div.sk-label-container:hover .sk-estimator-doc-link.fitted:hover,\n",
       ".sk-estimator-doc-link.fitted:hover {\n",
       "  /* fitted */\n",
       "  background-color: var(--sklearn-color-fitted-level-3);\n",
       "  color: var(--sklearn-color-background);\n",
       "  text-decoration: none;\n",
       "}\n",
       "\n",
       "/* Span, style for the box shown on hovering the info icon */\n",
       ".sk-estimator-doc-link span {\n",
       "  display: none;\n",
       "  z-index: 9999;\n",
       "  position: relative;\n",
       "  font-weight: normal;\n",
       "  right: .2ex;\n",
       "  padding: .5ex;\n",
       "  margin: .5ex;\n",
       "  width: min-content;\n",
       "  min-width: 20ex;\n",
       "  max-width: 50ex;\n",
       "  color: var(--sklearn-color-text);\n",
       "  box-shadow: 2pt 2pt 4pt #999;\n",
       "  /* unfitted */\n",
       "  background: var(--sklearn-color-unfitted-level-0);\n",
       "  border: .5pt solid var(--sklearn-color-unfitted-level-3);\n",
       "}\n",
       "\n",
       ".sk-estimator-doc-link.fitted span {\n",
       "  /* fitted */\n",
       "  background: var(--sklearn-color-fitted-level-0);\n",
       "  border: var(--sklearn-color-fitted-level-3);\n",
       "}\n",
       "\n",
       ".sk-estimator-doc-link:hover span {\n",
       "  display: block;\n",
       "}\n",
       "\n",
       "/* \"?\"-specific style due to the `<a>` HTML tag */\n",
       "\n",
       "#sk-container-id-1 a.estimator_doc_link {\n",
       "  float: right;\n",
       "  font-size: 1rem;\n",
       "  line-height: 1em;\n",
       "  font-family: monospace;\n",
       "  background-color: var(--sklearn-color-background);\n",
       "  border-radius: 1rem;\n",
       "  height: 1rem;\n",
       "  width: 1rem;\n",
       "  text-decoration: none;\n",
       "  /* unfitted */\n",
       "  color: var(--sklearn-color-unfitted-level-1);\n",
       "  border: var(--sklearn-color-unfitted-level-1) 1pt solid;\n",
       "}\n",
       "\n",
       "#sk-container-id-1 a.estimator_doc_link.fitted {\n",
       "  /* fitted */\n",
       "  border: var(--sklearn-color-fitted-level-1) 1pt solid;\n",
       "  color: var(--sklearn-color-fitted-level-1);\n",
       "}\n",
       "\n",
       "/* On hover */\n",
       "#sk-container-id-1 a.estimator_doc_link:hover {\n",
       "  /* unfitted */\n",
       "  background-color: var(--sklearn-color-unfitted-level-3);\n",
       "  color: var(--sklearn-color-background);\n",
       "  text-decoration: none;\n",
       "}\n",
       "\n",
       "#sk-container-id-1 a.estimator_doc_link.fitted:hover {\n",
       "  /* fitted */\n",
       "  background-color: var(--sklearn-color-fitted-level-3);\n",
       "}\n",
       "\n",
       ".estimator-table summary {\n",
       "    padding: .5rem;\n",
       "    font-family: monospace;\n",
       "    cursor: pointer;\n",
       "}\n",
       "\n",
       ".estimator-table details[open] {\n",
       "    padding-left: 0.1rem;\n",
       "    padding-right: 0.1rem;\n",
       "    padding-bottom: 0.3rem;\n",
       "}\n",
       "\n",
       ".estimator-table .parameters-table {\n",
       "    margin-left: auto !important;\n",
       "    margin-right: auto !important;\n",
       "}\n",
       "\n",
       ".estimator-table .parameters-table tr:nth-child(odd) {\n",
       "    background-color: #fff;\n",
       "}\n",
       "\n",
       ".estimator-table .parameters-table tr:nth-child(even) {\n",
       "    background-color: #f6f6f6;\n",
       "}\n",
       "\n",
       ".estimator-table .parameters-table tr:hover {\n",
       "    background-color: #e0e0e0;\n",
       "}\n",
       "\n",
       ".estimator-table table td {\n",
       "    border: 1px solid rgba(106, 105, 104, 0.232);\n",
       "}\n",
       "\n",
       ".user-set td {\n",
       "    color:rgb(255, 94, 0);\n",
       "    text-align: left;\n",
       "}\n",
       "\n",
       ".user-set td.value pre {\n",
       "    color:rgb(255, 94, 0) !important;\n",
       "    background-color: transparent !important;\n",
       "}\n",
       "\n",
       ".default td {\n",
       "    color: black;\n",
       "    text-align: left;\n",
       "}\n",
       "\n",
       ".user-set td i,\n",
       ".default td i {\n",
       "    color: black;\n",
       "}\n",
       "\n",
       ".copy-paste-icon {\n",
       "    background-image: url(data:image/svg+xml;base64,PHN2ZyB4bWxucz0iaHR0cDovL3d3dy53My5vcmcvMjAwMC9zdmciIHZpZXdCb3g9IjAgMCA0NDggNTEyIj48IS0tIUZvbnQgQXdlc29tZSBGcmVlIDYuNy4yIGJ5IEBmb250YXdlc29tZSAtIGh0dHBzOi8vZm9udGF3ZXNvbWUuY29tIExpY2Vuc2UgLSBodHRwczovL2ZvbnRhd2Vzb21lLmNvbS9saWNlbnNlL2ZyZWUgQ29weXJpZ2h0IDIwMjUgRm9udGljb25zLCBJbmMuLS0+PHBhdGggZD0iTTIwOCAwTDMzMi4xIDBjMTIuNyAwIDI0LjkgNS4xIDMzLjkgMTQuMWw2Ny45IDY3LjljOSA5IDE0LjEgMjEuMiAxNC4xIDMzLjlMNDQ4IDMzNmMwIDI2LjUtMjEuNSA0OC00OCA0OGwtMTkyIDBjLTI2LjUgMC00OC0yMS41LTQ4LTQ4bDAtMjg4YzAtMjYuNSAyMS41LTQ4IDQ4LTQ4ek00OCAxMjhsODAgMCAwIDY0LTY0IDAgMCAyNTYgMTkyIDAgMC0zMiA2NCAwIDAgNDhjMCAyNi41LTIxLjUgNDgtNDggNDhMNDggNTEyYy0yNi41IDAtNDgtMjEuNS00OC00OEwwIDE3NmMwLTI2LjUgMjEuNS00OCA0OC00OHoiLz48L3N2Zz4=);\n",
       "    background-repeat: no-repeat;\n",
       "    background-size: 14px 14px;\n",
       "    background-position: 0;\n",
       "    display: inline-block;\n",
       "    width: 14px;\n",
       "    height: 14px;\n",
       "    cursor: pointer;\n",
       "}\n",
       "</style><body><div id=\"sk-container-id-1\" class=\"sk-top-container\"><div class=\"sk-text-repr-fallback\"><pre>SimpleImputer(strategy=&#x27;median&#x27;)</pre><b>In a Jupyter environment, please rerun this cell to show the HTML representation or trust the notebook. <br />On GitHub, the HTML representation is unable to render, please try loading this page with nbviewer.org.</b></div><div class=\"sk-container\" hidden><div class=\"sk-item\"><div class=\"sk-estimator  sk-toggleable\"><input class=\"sk-toggleable__control sk-hidden--visually\" id=\"sk-estimator-id-1\" type=\"checkbox\" checked><label for=\"sk-estimator-id-1\" class=\"sk-toggleable__label  sk-toggleable__label-arrow\"><div><div>SimpleImputer</div></div><div><a class=\"sk-estimator-doc-link \" rel=\"noreferrer\" target=\"_blank\" href=\"https://scikit-learn.org/1.7/modules/generated/sklearn.impute.SimpleImputer.html\">?<span>Documentation for SimpleImputer</span></a><span class=\"sk-estimator-doc-link \">i<span>Not fitted</span></span></div></label><div class=\"sk-toggleable__content \" data-param-prefix=\"\">\n",
       "        <div class=\"estimator-table\">\n",
       "            <details>\n",
       "                <summary>Parameters</summary>\n",
       "                <table class=\"parameters-table\">\n",
       "                  <tbody>\n",
       "                    \n",
       "        <tr class=\"default\">\n",
       "            <td><i class=\"copy-paste-icon\"\n",
       "                 onclick=\"copyToClipboard('missing_values',\n",
       "                          this.parentElement.nextElementSibling)\"\n",
       "            ></i></td>\n",
       "            <td class=\"param\">missing_values&nbsp;</td>\n",
       "            <td class=\"value\">nan</td>\n",
       "        </tr>\n",
       "    \n",
       "\n",
       "        <tr class=\"user-set\">\n",
       "            <td><i class=\"copy-paste-icon\"\n",
       "                 onclick=\"copyToClipboard('strategy',\n",
       "                          this.parentElement.nextElementSibling)\"\n",
       "            ></i></td>\n",
       "            <td class=\"param\">strategy&nbsp;</td>\n",
       "            <td class=\"value\">&#x27;median&#x27;</td>\n",
       "        </tr>\n",
       "    \n",
       "\n",
       "        <tr class=\"default\">\n",
       "            <td><i class=\"copy-paste-icon\"\n",
       "                 onclick=\"copyToClipboard('fill_value',\n",
       "                          this.parentElement.nextElementSibling)\"\n",
       "            ></i></td>\n",
       "            <td class=\"param\">fill_value&nbsp;</td>\n",
       "            <td class=\"value\">None</td>\n",
       "        </tr>\n",
       "    \n",
       "\n",
       "        <tr class=\"default\">\n",
       "            <td><i class=\"copy-paste-icon\"\n",
       "                 onclick=\"copyToClipboard('copy',\n",
       "                          this.parentElement.nextElementSibling)\"\n",
       "            ></i></td>\n",
       "            <td class=\"param\">copy&nbsp;</td>\n",
       "            <td class=\"value\">True</td>\n",
       "        </tr>\n",
       "    \n",
       "\n",
       "        <tr class=\"default\">\n",
       "            <td><i class=\"copy-paste-icon\"\n",
       "                 onclick=\"copyToClipboard('add_indicator',\n",
       "                          this.parentElement.nextElementSibling)\"\n",
       "            ></i></td>\n",
       "            <td class=\"param\">add_indicator&nbsp;</td>\n",
       "            <td class=\"value\">False</td>\n",
       "        </tr>\n",
       "    \n",
       "\n",
       "        <tr class=\"default\">\n",
       "            <td><i class=\"copy-paste-icon\"\n",
       "                 onclick=\"copyToClipboard('keep_empty_features',\n",
       "                          this.parentElement.nextElementSibling)\"\n",
       "            ></i></td>\n",
       "            <td class=\"param\">keep_empty_features&nbsp;</td>\n",
       "            <td class=\"value\">False</td>\n",
       "        </tr>\n",
       "    \n",
       "                  </tbody>\n",
       "                </table>\n",
       "            </details>\n",
       "        </div>\n",
       "    </div></div></div></div></div><script>function copyToClipboard(text, element) {\n",
       "    // Get the parameter prefix from the closest toggleable content\n",
       "    const toggleableContent = element.closest('.sk-toggleable__content');\n",
       "    const paramPrefix = toggleableContent ? toggleableContent.dataset.paramPrefix : '';\n",
       "    const fullParamName = paramPrefix ? `${paramPrefix}${text}` : text;\n",
       "\n",
       "    const originalStyle = element.style;\n",
       "    const computedStyle = window.getComputedStyle(element);\n",
       "    const originalWidth = computedStyle.width;\n",
       "    const originalHTML = element.innerHTML.replace('Copied!', '');\n",
       "\n",
       "    navigator.clipboard.writeText(fullParamName)\n",
       "        .then(() => {\n",
       "            element.style.width = originalWidth;\n",
       "            element.style.color = 'green';\n",
       "            element.innerHTML = \"Copied!\";\n",
       "\n",
       "            setTimeout(() => {\n",
       "                element.innerHTML = originalHTML;\n",
       "                element.style = originalStyle;\n",
       "            }, 2000);\n",
       "        })\n",
       "        .catch(err => {\n",
       "            console.error('Failed to copy:', err);\n",
       "            element.style.color = 'red';\n",
       "            element.innerHTML = \"Failed!\";\n",
       "            setTimeout(() => {\n",
       "                element.innerHTML = originalHTML;\n",
       "                element.style = originalStyle;\n",
       "            }, 2000);\n",
       "        });\n",
       "    return false;\n",
       "}\n",
       "\n",
       "document.querySelectorAll('.fa-regular.fa-copy').forEach(function(element) {\n",
       "    const toggleableContent = element.closest('.sk-toggleable__content');\n",
       "    const paramPrefix = toggleableContent ? toggleableContent.dataset.paramPrefix : '';\n",
       "    const paramName = element.parentElement.nextElementSibling.textContent.trim();\n",
       "    const fullParamName = paramPrefix ? `${paramPrefix}${paramName}` : paramName;\n",
       "\n",
       "    element.setAttribute('title', fullParamName);\n",
       "});\n",
       "</script></body>"
      ],
      "text/plain": [
       "SimpleImputer(strategy='median')"
      ]
     },
     "execution_count": 20,
     "metadata": {},
     "output_type": "execute_result"
    }
   ],
   "source": [
    "median_imputer = SimpleImputer(strategy = 'median')\n",
    "median_imputer\n",
    "\n",
    "#median_imputer is an object of SimpleImputer\n",
    "#median_imputer needs to calculate the median value >> fit\n",
    "#replace the null value with this median value >> transform\n"
   ]
  },
  {
   "cell_type": "code",
   "execution_count": 21,
   "id": "151f6348-ce5e-4683-9766-383e8ed27c43",
   "metadata": {},
   "outputs": [
    {
     "data": {
      "text/html": [
       "<style>#sk-container-id-2 {\n",
       "  /* Definition of color scheme common for light and dark mode */\n",
       "  --sklearn-color-text: #000;\n",
       "  --sklearn-color-text-muted: #666;\n",
       "  --sklearn-color-line: gray;\n",
       "  /* Definition of color scheme for unfitted estimators */\n",
       "  --sklearn-color-unfitted-level-0: #fff5e6;\n",
       "  --sklearn-color-unfitted-level-1: #f6e4d2;\n",
       "  --sklearn-color-unfitted-level-2: #ffe0b3;\n",
       "  --sklearn-color-unfitted-level-3: chocolate;\n",
       "  /* Definition of color scheme for fitted estimators */\n",
       "  --sklearn-color-fitted-level-0: #f0f8ff;\n",
       "  --sklearn-color-fitted-level-1: #d4ebff;\n",
       "  --sklearn-color-fitted-level-2: #b3dbfd;\n",
       "  --sklearn-color-fitted-level-3: cornflowerblue;\n",
       "\n",
       "  /* Specific color for light theme */\n",
       "  --sklearn-color-text-on-default-background: var(--sg-text-color, var(--theme-code-foreground, var(--jp-content-font-color1, black)));\n",
       "  --sklearn-color-background: var(--sg-background-color, var(--theme-background, var(--jp-layout-color0, white)));\n",
       "  --sklearn-color-border-box: var(--sg-text-color, var(--theme-code-foreground, var(--jp-content-font-color1, black)));\n",
       "  --sklearn-color-icon: #696969;\n",
       "\n",
       "  @media (prefers-color-scheme: dark) {\n",
       "    /* Redefinition of color scheme for dark theme */\n",
       "    --sklearn-color-text-on-default-background: var(--sg-text-color, var(--theme-code-foreground, var(--jp-content-font-color1, white)));\n",
       "    --sklearn-color-background: var(--sg-background-color, var(--theme-background, var(--jp-layout-color0, #111)));\n",
       "    --sklearn-color-border-box: var(--sg-text-color, var(--theme-code-foreground, var(--jp-content-font-color1, white)));\n",
       "    --sklearn-color-icon: #878787;\n",
       "  }\n",
       "}\n",
       "\n",
       "#sk-container-id-2 {\n",
       "  color: var(--sklearn-color-text);\n",
       "}\n",
       "\n",
       "#sk-container-id-2 pre {\n",
       "  padding: 0;\n",
       "}\n",
       "\n",
       "#sk-container-id-2 input.sk-hidden--visually {\n",
       "  border: 0;\n",
       "  clip: rect(1px 1px 1px 1px);\n",
       "  clip: rect(1px, 1px, 1px, 1px);\n",
       "  height: 1px;\n",
       "  margin: -1px;\n",
       "  overflow: hidden;\n",
       "  padding: 0;\n",
       "  position: absolute;\n",
       "  width: 1px;\n",
       "}\n",
       "\n",
       "#sk-container-id-2 div.sk-dashed-wrapped {\n",
       "  border: 1px dashed var(--sklearn-color-line);\n",
       "  margin: 0 0.4em 0.5em 0.4em;\n",
       "  box-sizing: border-box;\n",
       "  padding-bottom: 0.4em;\n",
       "  background-color: var(--sklearn-color-background);\n",
       "}\n",
       "\n",
       "#sk-container-id-2 div.sk-container {\n",
       "  /* jupyter's `normalize.less` sets `[hidden] { display: none; }`\n",
       "     but bootstrap.min.css set `[hidden] { display: none !important; }`\n",
       "     so we also need the `!important` here to be able to override the\n",
       "     default hidden behavior on the sphinx rendered scikit-learn.org.\n",
       "     See: https://github.com/scikit-learn/scikit-learn/issues/21755 */\n",
       "  display: inline-block !important;\n",
       "  position: relative;\n",
       "}\n",
       "\n",
       "#sk-container-id-2 div.sk-text-repr-fallback {\n",
       "  display: none;\n",
       "}\n",
       "\n",
       "div.sk-parallel-item,\n",
       "div.sk-serial,\n",
       "div.sk-item {\n",
       "  /* draw centered vertical line to link estimators */\n",
       "  background-image: linear-gradient(var(--sklearn-color-text-on-default-background), var(--sklearn-color-text-on-default-background));\n",
       "  background-size: 2px 100%;\n",
       "  background-repeat: no-repeat;\n",
       "  background-position: center center;\n",
       "}\n",
       "\n",
       "/* Parallel-specific style estimator block */\n",
       "\n",
       "#sk-container-id-2 div.sk-parallel-item::after {\n",
       "  content: \"\";\n",
       "  width: 100%;\n",
       "  border-bottom: 2px solid var(--sklearn-color-text-on-default-background);\n",
       "  flex-grow: 1;\n",
       "}\n",
       "\n",
       "#sk-container-id-2 div.sk-parallel {\n",
       "  display: flex;\n",
       "  align-items: stretch;\n",
       "  justify-content: center;\n",
       "  background-color: var(--sklearn-color-background);\n",
       "  position: relative;\n",
       "}\n",
       "\n",
       "#sk-container-id-2 div.sk-parallel-item {\n",
       "  display: flex;\n",
       "  flex-direction: column;\n",
       "}\n",
       "\n",
       "#sk-container-id-2 div.sk-parallel-item:first-child::after {\n",
       "  align-self: flex-end;\n",
       "  width: 50%;\n",
       "}\n",
       "\n",
       "#sk-container-id-2 div.sk-parallel-item:last-child::after {\n",
       "  align-self: flex-start;\n",
       "  width: 50%;\n",
       "}\n",
       "\n",
       "#sk-container-id-2 div.sk-parallel-item:only-child::after {\n",
       "  width: 0;\n",
       "}\n",
       "\n",
       "/* Serial-specific style estimator block */\n",
       "\n",
       "#sk-container-id-2 div.sk-serial {\n",
       "  display: flex;\n",
       "  flex-direction: column;\n",
       "  align-items: center;\n",
       "  background-color: var(--sklearn-color-background);\n",
       "  padding-right: 1em;\n",
       "  padding-left: 1em;\n",
       "}\n",
       "\n",
       "\n",
       "/* Toggleable style: style used for estimator/Pipeline/ColumnTransformer box that is\n",
       "clickable and can be expanded/collapsed.\n",
       "- Pipeline and ColumnTransformer use this feature and define the default style\n",
       "- Estimators will overwrite some part of the style using the `sk-estimator` class\n",
       "*/\n",
       "\n",
       "/* Pipeline and ColumnTransformer style (default) */\n",
       "\n",
       "#sk-container-id-2 div.sk-toggleable {\n",
       "  /* Default theme specific background. It is overwritten whether we have a\n",
       "  specific estimator or a Pipeline/ColumnTransformer */\n",
       "  background-color: var(--sklearn-color-background);\n",
       "}\n",
       "\n",
       "/* Toggleable label */\n",
       "#sk-container-id-2 label.sk-toggleable__label {\n",
       "  cursor: pointer;\n",
       "  display: flex;\n",
       "  width: 100%;\n",
       "  margin-bottom: 0;\n",
       "  padding: 0.5em;\n",
       "  box-sizing: border-box;\n",
       "  text-align: center;\n",
       "  align-items: start;\n",
       "  justify-content: space-between;\n",
       "  gap: 0.5em;\n",
       "}\n",
       "\n",
       "#sk-container-id-2 label.sk-toggleable__label .caption {\n",
       "  font-size: 0.6rem;\n",
       "  font-weight: lighter;\n",
       "  color: var(--sklearn-color-text-muted);\n",
       "}\n",
       "\n",
       "#sk-container-id-2 label.sk-toggleable__label-arrow:before {\n",
       "  /* Arrow on the left of the label */\n",
       "  content: \"▸\";\n",
       "  float: left;\n",
       "  margin-right: 0.25em;\n",
       "  color: var(--sklearn-color-icon);\n",
       "}\n",
       "\n",
       "#sk-container-id-2 label.sk-toggleable__label-arrow:hover:before {\n",
       "  color: var(--sklearn-color-text);\n",
       "}\n",
       "\n",
       "/* Toggleable content - dropdown */\n",
       "\n",
       "#sk-container-id-2 div.sk-toggleable__content {\n",
       "  display: none;\n",
       "  text-align: left;\n",
       "  /* unfitted */\n",
       "  background-color: var(--sklearn-color-unfitted-level-0);\n",
       "}\n",
       "\n",
       "#sk-container-id-2 div.sk-toggleable__content.fitted {\n",
       "  /* fitted */\n",
       "  background-color: var(--sklearn-color-fitted-level-0);\n",
       "}\n",
       "\n",
       "#sk-container-id-2 div.sk-toggleable__content pre {\n",
       "  margin: 0.2em;\n",
       "  border-radius: 0.25em;\n",
       "  color: var(--sklearn-color-text);\n",
       "  /* unfitted */\n",
       "  background-color: var(--sklearn-color-unfitted-level-0);\n",
       "}\n",
       "\n",
       "#sk-container-id-2 div.sk-toggleable__content.fitted pre {\n",
       "  /* unfitted */\n",
       "  background-color: var(--sklearn-color-fitted-level-0);\n",
       "}\n",
       "\n",
       "#sk-container-id-2 input.sk-toggleable__control:checked~div.sk-toggleable__content {\n",
       "  /* Expand drop-down */\n",
       "  display: block;\n",
       "  width: 100%;\n",
       "  overflow: visible;\n",
       "}\n",
       "\n",
       "#sk-container-id-2 input.sk-toggleable__control:checked~label.sk-toggleable__label-arrow:before {\n",
       "  content: \"▾\";\n",
       "}\n",
       "\n",
       "/* Pipeline/ColumnTransformer-specific style */\n",
       "\n",
       "#sk-container-id-2 div.sk-label input.sk-toggleable__control:checked~label.sk-toggleable__label {\n",
       "  color: var(--sklearn-color-text);\n",
       "  background-color: var(--sklearn-color-unfitted-level-2);\n",
       "}\n",
       "\n",
       "#sk-container-id-2 div.sk-label.fitted input.sk-toggleable__control:checked~label.sk-toggleable__label {\n",
       "  background-color: var(--sklearn-color-fitted-level-2);\n",
       "}\n",
       "\n",
       "/* Estimator-specific style */\n",
       "\n",
       "/* Colorize estimator box */\n",
       "#sk-container-id-2 div.sk-estimator input.sk-toggleable__control:checked~label.sk-toggleable__label {\n",
       "  /* unfitted */\n",
       "  background-color: var(--sklearn-color-unfitted-level-2);\n",
       "}\n",
       "\n",
       "#sk-container-id-2 div.sk-estimator.fitted input.sk-toggleable__control:checked~label.sk-toggleable__label {\n",
       "  /* fitted */\n",
       "  background-color: var(--sklearn-color-fitted-level-2);\n",
       "}\n",
       "\n",
       "#sk-container-id-2 div.sk-label label.sk-toggleable__label,\n",
       "#sk-container-id-2 div.sk-label label {\n",
       "  /* The background is the default theme color */\n",
       "  color: var(--sklearn-color-text-on-default-background);\n",
       "}\n",
       "\n",
       "/* On hover, darken the color of the background */\n",
       "#sk-container-id-2 div.sk-label:hover label.sk-toggleable__label {\n",
       "  color: var(--sklearn-color-text);\n",
       "  background-color: var(--sklearn-color-unfitted-level-2);\n",
       "}\n",
       "\n",
       "/* Label box, darken color on hover, fitted */\n",
       "#sk-container-id-2 div.sk-label.fitted:hover label.sk-toggleable__label.fitted {\n",
       "  color: var(--sklearn-color-text);\n",
       "  background-color: var(--sklearn-color-fitted-level-2);\n",
       "}\n",
       "\n",
       "/* Estimator label */\n",
       "\n",
       "#sk-container-id-2 div.sk-label label {\n",
       "  font-family: monospace;\n",
       "  font-weight: bold;\n",
       "  display: inline-block;\n",
       "  line-height: 1.2em;\n",
       "}\n",
       "\n",
       "#sk-container-id-2 div.sk-label-container {\n",
       "  text-align: center;\n",
       "}\n",
       "\n",
       "/* Estimator-specific */\n",
       "#sk-container-id-2 div.sk-estimator {\n",
       "  font-family: monospace;\n",
       "  border: 1px dotted var(--sklearn-color-border-box);\n",
       "  border-radius: 0.25em;\n",
       "  box-sizing: border-box;\n",
       "  margin-bottom: 0.5em;\n",
       "  /* unfitted */\n",
       "  background-color: var(--sklearn-color-unfitted-level-0);\n",
       "}\n",
       "\n",
       "#sk-container-id-2 div.sk-estimator.fitted {\n",
       "  /* fitted */\n",
       "  background-color: var(--sklearn-color-fitted-level-0);\n",
       "}\n",
       "\n",
       "/* on hover */\n",
       "#sk-container-id-2 div.sk-estimator:hover {\n",
       "  /* unfitted */\n",
       "  background-color: var(--sklearn-color-unfitted-level-2);\n",
       "}\n",
       "\n",
       "#sk-container-id-2 div.sk-estimator.fitted:hover {\n",
       "  /* fitted */\n",
       "  background-color: var(--sklearn-color-fitted-level-2);\n",
       "}\n",
       "\n",
       "/* Specification for estimator info (e.g. \"i\" and \"?\") */\n",
       "\n",
       "/* Common style for \"i\" and \"?\" */\n",
       "\n",
       ".sk-estimator-doc-link,\n",
       "a:link.sk-estimator-doc-link,\n",
       "a:visited.sk-estimator-doc-link {\n",
       "  float: right;\n",
       "  font-size: smaller;\n",
       "  line-height: 1em;\n",
       "  font-family: monospace;\n",
       "  background-color: var(--sklearn-color-background);\n",
       "  border-radius: 1em;\n",
       "  height: 1em;\n",
       "  width: 1em;\n",
       "  text-decoration: none !important;\n",
       "  margin-left: 0.5em;\n",
       "  text-align: center;\n",
       "  /* unfitted */\n",
       "  border: var(--sklearn-color-unfitted-level-1) 1pt solid;\n",
       "  color: var(--sklearn-color-unfitted-level-1);\n",
       "}\n",
       "\n",
       ".sk-estimator-doc-link.fitted,\n",
       "a:link.sk-estimator-doc-link.fitted,\n",
       "a:visited.sk-estimator-doc-link.fitted {\n",
       "  /* fitted */\n",
       "  border: var(--sklearn-color-fitted-level-1) 1pt solid;\n",
       "  color: var(--sklearn-color-fitted-level-1);\n",
       "}\n",
       "\n",
       "/* On hover */\n",
       "div.sk-estimator:hover .sk-estimator-doc-link:hover,\n",
       ".sk-estimator-doc-link:hover,\n",
       "div.sk-label-container:hover .sk-estimator-doc-link:hover,\n",
       ".sk-estimator-doc-link:hover {\n",
       "  /* unfitted */\n",
       "  background-color: var(--sklearn-color-unfitted-level-3);\n",
       "  color: var(--sklearn-color-background);\n",
       "  text-decoration: none;\n",
       "}\n",
       "\n",
       "div.sk-estimator.fitted:hover .sk-estimator-doc-link.fitted:hover,\n",
       ".sk-estimator-doc-link.fitted:hover,\n",
       "div.sk-label-container:hover .sk-estimator-doc-link.fitted:hover,\n",
       ".sk-estimator-doc-link.fitted:hover {\n",
       "  /* fitted */\n",
       "  background-color: var(--sklearn-color-fitted-level-3);\n",
       "  color: var(--sklearn-color-background);\n",
       "  text-decoration: none;\n",
       "}\n",
       "\n",
       "/* Span, style for the box shown on hovering the info icon */\n",
       ".sk-estimator-doc-link span {\n",
       "  display: none;\n",
       "  z-index: 9999;\n",
       "  position: relative;\n",
       "  font-weight: normal;\n",
       "  right: .2ex;\n",
       "  padding: .5ex;\n",
       "  margin: .5ex;\n",
       "  width: min-content;\n",
       "  min-width: 20ex;\n",
       "  max-width: 50ex;\n",
       "  color: var(--sklearn-color-text);\n",
       "  box-shadow: 2pt 2pt 4pt #999;\n",
       "  /* unfitted */\n",
       "  background: var(--sklearn-color-unfitted-level-0);\n",
       "  border: .5pt solid var(--sklearn-color-unfitted-level-3);\n",
       "}\n",
       "\n",
       ".sk-estimator-doc-link.fitted span {\n",
       "  /* fitted */\n",
       "  background: var(--sklearn-color-fitted-level-0);\n",
       "  border: var(--sklearn-color-fitted-level-3);\n",
       "}\n",
       "\n",
       ".sk-estimator-doc-link:hover span {\n",
       "  display: block;\n",
       "}\n",
       "\n",
       "/* \"?\"-specific style due to the `<a>` HTML tag */\n",
       "\n",
       "#sk-container-id-2 a.estimator_doc_link {\n",
       "  float: right;\n",
       "  font-size: 1rem;\n",
       "  line-height: 1em;\n",
       "  font-family: monospace;\n",
       "  background-color: var(--sklearn-color-background);\n",
       "  border-radius: 1rem;\n",
       "  height: 1rem;\n",
       "  width: 1rem;\n",
       "  text-decoration: none;\n",
       "  /* unfitted */\n",
       "  color: var(--sklearn-color-unfitted-level-1);\n",
       "  border: var(--sklearn-color-unfitted-level-1) 1pt solid;\n",
       "}\n",
       "\n",
       "#sk-container-id-2 a.estimator_doc_link.fitted {\n",
       "  /* fitted */\n",
       "  border: var(--sklearn-color-fitted-level-1) 1pt solid;\n",
       "  color: var(--sklearn-color-fitted-level-1);\n",
       "}\n",
       "\n",
       "/* On hover */\n",
       "#sk-container-id-2 a.estimator_doc_link:hover {\n",
       "  /* unfitted */\n",
       "  background-color: var(--sklearn-color-unfitted-level-3);\n",
       "  color: var(--sklearn-color-background);\n",
       "  text-decoration: none;\n",
       "}\n",
       "\n",
       "#sk-container-id-2 a.estimator_doc_link.fitted:hover {\n",
       "  /* fitted */\n",
       "  background-color: var(--sklearn-color-fitted-level-3);\n",
       "}\n",
       "\n",
       ".estimator-table summary {\n",
       "    padding: .5rem;\n",
       "    font-family: monospace;\n",
       "    cursor: pointer;\n",
       "}\n",
       "\n",
       ".estimator-table details[open] {\n",
       "    padding-left: 0.1rem;\n",
       "    padding-right: 0.1rem;\n",
       "    padding-bottom: 0.3rem;\n",
       "}\n",
       "\n",
       ".estimator-table .parameters-table {\n",
       "    margin-left: auto !important;\n",
       "    margin-right: auto !important;\n",
       "}\n",
       "\n",
       ".estimator-table .parameters-table tr:nth-child(odd) {\n",
       "    background-color: #fff;\n",
       "}\n",
       "\n",
       ".estimator-table .parameters-table tr:nth-child(even) {\n",
       "    background-color: #f6f6f6;\n",
       "}\n",
       "\n",
       ".estimator-table .parameters-table tr:hover {\n",
       "    background-color: #e0e0e0;\n",
       "}\n",
       "\n",
       ".estimator-table table td {\n",
       "    border: 1px solid rgba(106, 105, 104, 0.232);\n",
       "}\n",
       "\n",
       ".user-set td {\n",
       "    color:rgb(255, 94, 0);\n",
       "    text-align: left;\n",
       "}\n",
       "\n",
       ".user-set td.value pre {\n",
       "    color:rgb(255, 94, 0) !important;\n",
       "    background-color: transparent !important;\n",
       "}\n",
       "\n",
       ".default td {\n",
       "    color: black;\n",
       "    text-align: left;\n",
       "}\n",
       "\n",
       ".user-set td i,\n",
       ".default td i {\n",
       "    color: black;\n",
       "}\n",
       "\n",
       ".copy-paste-icon {\n",
       "    background-image: url(data:image/svg+xml;base64,PHN2ZyB4bWxucz0iaHR0cDovL3d3dy53My5vcmcvMjAwMC9zdmciIHZpZXdCb3g9IjAgMCA0NDggNTEyIj48IS0tIUZvbnQgQXdlc29tZSBGcmVlIDYuNy4yIGJ5IEBmb250YXdlc29tZSAtIGh0dHBzOi8vZm9udGF3ZXNvbWUuY29tIExpY2Vuc2UgLSBodHRwczovL2ZvbnRhd2Vzb21lLmNvbS9saWNlbnNlL2ZyZWUgQ29weXJpZ2h0IDIwMjUgRm9udGljb25zLCBJbmMuLS0+PHBhdGggZD0iTTIwOCAwTDMzMi4xIDBjMTIuNyAwIDI0LjkgNS4xIDMzLjkgMTQuMWw2Ny45IDY3LjljOSA5IDE0LjEgMjEuMiAxNC4xIDMzLjlMNDQ4IDMzNmMwIDI2LjUtMjEuNSA0OC00OCA0OGwtMTkyIDBjLTI2LjUgMC00OC0yMS41LTQ4LTQ4bDAtMjg4YzAtMjYuNSAyMS41LTQ4IDQ4LTQ4ek00OCAxMjhsODAgMCAwIDY0LTY0IDAgMCAyNTYgMTkyIDAgMC0zMiA2NCAwIDAgNDhjMCAyNi41LTIxLjUgNDgtNDggNDhMNDggNTEyYy0yNi41IDAtNDgtMjEuNS00OC00OEwwIDE3NmMwLTI2LjUgMjEuNS00OCA0OC00OHoiLz48L3N2Zz4=);\n",
       "    background-repeat: no-repeat;\n",
       "    background-size: 14px 14px;\n",
       "    background-position: 0;\n",
       "    display: inline-block;\n",
       "    width: 14px;\n",
       "    height: 14px;\n",
       "    cursor: pointer;\n",
       "}\n",
       "</style><body><div id=\"sk-container-id-2\" class=\"sk-top-container\"><div class=\"sk-text-repr-fallback\"><pre>SimpleImputer(strategy=&#x27;median&#x27;)</pre><b>In a Jupyter environment, please rerun this cell to show the HTML representation or trust the notebook. <br />On GitHub, the HTML representation is unable to render, please try loading this page with nbviewer.org.</b></div><div class=\"sk-container\" hidden><div class=\"sk-item\"><div class=\"sk-estimator fitted sk-toggleable\"><input class=\"sk-toggleable__control sk-hidden--visually\" id=\"sk-estimator-id-2\" type=\"checkbox\" checked><label for=\"sk-estimator-id-2\" class=\"sk-toggleable__label fitted sk-toggleable__label-arrow\"><div><div>SimpleImputer</div></div><div><a class=\"sk-estimator-doc-link fitted\" rel=\"noreferrer\" target=\"_blank\" href=\"https://scikit-learn.org/1.7/modules/generated/sklearn.impute.SimpleImputer.html\">?<span>Documentation for SimpleImputer</span></a><span class=\"sk-estimator-doc-link fitted\">i<span>Fitted</span></span></div></label><div class=\"sk-toggleable__content fitted\" data-param-prefix=\"\">\n",
       "        <div class=\"estimator-table\">\n",
       "            <details>\n",
       "                <summary>Parameters</summary>\n",
       "                <table class=\"parameters-table\">\n",
       "                  <tbody>\n",
       "                    \n",
       "        <tr class=\"default\">\n",
       "            <td><i class=\"copy-paste-icon\"\n",
       "                 onclick=\"copyToClipboard('missing_values',\n",
       "                          this.parentElement.nextElementSibling)\"\n",
       "            ></i></td>\n",
       "            <td class=\"param\">missing_values&nbsp;</td>\n",
       "            <td class=\"value\">nan</td>\n",
       "        </tr>\n",
       "    \n",
       "\n",
       "        <tr class=\"user-set\">\n",
       "            <td><i class=\"copy-paste-icon\"\n",
       "                 onclick=\"copyToClipboard('strategy',\n",
       "                          this.parentElement.nextElementSibling)\"\n",
       "            ></i></td>\n",
       "            <td class=\"param\">strategy&nbsp;</td>\n",
       "            <td class=\"value\">&#x27;median&#x27;</td>\n",
       "        </tr>\n",
       "    \n",
       "\n",
       "        <tr class=\"default\">\n",
       "            <td><i class=\"copy-paste-icon\"\n",
       "                 onclick=\"copyToClipboard('fill_value',\n",
       "                          this.parentElement.nextElementSibling)\"\n",
       "            ></i></td>\n",
       "            <td class=\"param\">fill_value&nbsp;</td>\n",
       "            <td class=\"value\">None</td>\n",
       "        </tr>\n",
       "    \n",
       "\n",
       "        <tr class=\"default\">\n",
       "            <td><i class=\"copy-paste-icon\"\n",
       "                 onclick=\"copyToClipboard('copy',\n",
       "                          this.parentElement.nextElementSibling)\"\n",
       "            ></i></td>\n",
       "            <td class=\"param\">copy&nbsp;</td>\n",
       "            <td class=\"value\">True</td>\n",
       "        </tr>\n",
       "    \n",
       "\n",
       "        <tr class=\"default\">\n",
       "            <td><i class=\"copy-paste-icon\"\n",
       "                 onclick=\"copyToClipboard('add_indicator',\n",
       "                          this.parentElement.nextElementSibling)\"\n",
       "            ></i></td>\n",
       "            <td class=\"param\">add_indicator&nbsp;</td>\n",
       "            <td class=\"value\">False</td>\n",
       "        </tr>\n",
       "    \n",
       "\n",
       "        <tr class=\"default\">\n",
       "            <td><i class=\"copy-paste-icon\"\n",
       "                 onclick=\"copyToClipboard('keep_empty_features',\n",
       "                          this.parentElement.nextElementSibling)\"\n",
       "            ></i></td>\n",
       "            <td class=\"param\">keep_empty_features&nbsp;</td>\n",
       "            <td class=\"value\">False</td>\n",
       "        </tr>\n",
       "    \n",
       "                  </tbody>\n",
       "                </table>\n",
       "            </details>\n",
       "        </div>\n",
       "    </div></div></div></div></div><script>function copyToClipboard(text, element) {\n",
       "    // Get the parameter prefix from the closest toggleable content\n",
       "    const toggleableContent = element.closest('.sk-toggleable__content');\n",
       "    const paramPrefix = toggleableContent ? toggleableContent.dataset.paramPrefix : '';\n",
       "    const fullParamName = paramPrefix ? `${paramPrefix}${text}` : text;\n",
       "\n",
       "    const originalStyle = element.style;\n",
       "    const computedStyle = window.getComputedStyle(element);\n",
       "    const originalWidth = computedStyle.width;\n",
       "    const originalHTML = element.innerHTML.replace('Copied!', '');\n",
       "\n",
       "    navigator.clipboard.writeText(fullParamName)\n",
       "        .then(() => {\n",
       "            element.style.width = originalWidth;\n",
       "            element.style.color = 'green';\n",
       "            element.innerHTML = \"Copied!\";\n",
       "\n",
       "            setTimeout(() => {\n",
       "                element.innerHTML = originalHTML;\n",
       "                element.style = originalStyle;\n",
       "            }, 2000);\n",
       "        })\n",
       "        .catch(err => {\n",
       "            console.error('Failed to copy:', err);\n",
       "            element.style.color = 'red';\n",
       "            element.innerHTML = \"Failed!\";\n",
       "            setTimeout(() => {\n",
       "                element.innerHTML = originalHTML;\n",
       "                element.style = originalStyle;\n",
       "            }, 2000);\n",
       "        });\n",
       "    return false;\n",
       "}\n",
       "\n",
       "document.querySelectorAll('.fa-regular.fa-copy').forEach(function(element) {\n",
       "    const toggleableContent = element.closest('.sk-toggleable__content');\n",
       "    const paramPrefix = toggleableContent ? toggleableContent.dataset.paramPrefix : '';\n",
       "    const paramName = element.parentElement.nextElementSibling.textContent.trim();\n",
       "    const fullParamName = paramPrefix ? `${paramPrefix}${paramName}` : paramName;\n",
       "\n",
       "    element.setAttribute('title', fullParamName);\n",
       "});\n",
       "</script></body>"
      ],
      "text/plain": [
       "SimpleImputer(strategy='median')"
      ]
     },
     "execution_count": 21,
     "metadata": {},
     "output_type": "execute_result"
    }
   ],
   "source": [
    "median_imputer.fit(df_simple[['age']]) #learns the median"
   ]
  },
  {
   "cell_type": "code",
   "execution_count": 22,
   "id": "9410d4e2-6f46-425a-9eb9-59472162ef18",
   "metadata": {},
   "outputs": [],
   "source": [
    "df_simple['age'] = median_imputer.transform(df_simple[['age']]) #transform applies the learned median to the data"
   ]
  },
  {
   "cell_type": "code",
   "execution_count": 23,
   "id": "58fcd5d3-b7ac-4320-8cdf-0806822e1c17",
   "metadata": {},
   "outputs": [
    {
     "data": {
      "text/plain": [
       "np.int64(0)"
      ]
     },
     "execution_count": 23,
     "metadata": {},
     "output_type": "execute_result"
    }
   ],
   "source": [
    "df_simple['age'].isna().sum()"
   ]
  },
  {
   "cell_type": "code",
   "execution_count": 24,
   "id": "18c58bbe-133c-4c1c-a2a5-f5ff92d6d53b",
   "metadata": {},
   "outputs": [],
   "source": [
    "df_simple['age'] = median_imputer.fit_transform(df_simple[['age']])"
   ]
  },
  {
   "cell_type": "code",
   "execution_count": 25,
   "id": "677b02e1-e602-4ab2-9920-3604daa12689",
   "metadata": {},
   "outputs": [],
   "source": [
    "#embarked column\n",
    "\n",
    "mode_imputer = SimpleImputer(strategy='most_frequent')\n",
    "df_simple['embarked'] = mode_imputer.fit_transform(df_simple[['embarked']]).ravel() #it returns 2d array and .ravel will flatten"
   ]
  },
  {
   "cell_type": "code",
   "execution_count": 26,
   "id": "49685ed7-8a4b-4fb2-8829-643ab0efb5ab",
   "metadata": {},
   "outputs": [
    {
     "data": {
      "text/plain": [
       "array(['S', 'C', 'Q'], dtype=object)"
      ]
     },
     "execution_count": 26,
     "metadata": {},
     "output_type": "execute_result"
    }
   ],
   "source": [
    "df_simple['embarked'].unique()"
   ]
  },
  {
   "cell_type": "code",
   "execution_count": 27,
   "id": "50283356-4717-48fd-a3fe-8bc71ff3c916",
   "metadata": {},
   "outputs": [
    {
     "data": {
      "application/vnd.microsoft.datawrangler.viewer.v0+json": {
       "columns": [
        {
         "name": "index",
         "rawType": "object",
         "type": "unknown"
        },
        {
         "name": "count",
         "rawType": "int64",
         "type": "integer"
        }
       ],
       "ref": "0cb08af5-26d7-4b03-9921-69b6eeeb6408",
       "rows": [
        [
         "('S',)",
         "646"
        ],
        [
         "('C',)",
         "168"
        ],
        [
         "('Q',)",
         "77"
        ]
       ],
       "shape": {
        "columns": 1,
        "rows": 3
       }
      },
      "text/plain": [
       "embarked\n",
       "S           646\n",
       "C           168\n",
       "Q            77\n",
       "Name: count, dtype: int64"
      ]
     },
     "execution_count": 27,
     "metadata": {},
     "output_type": "execute_result"
    }
   ],
   "source": [
    "df_simple[['embarked']].value_counts()"
   ]
  },
  {
   "cell_type": "code",
   "execution_count": 28,
   "id": "6af8e3b2-5661-4396-9945-61ab61ba41e5",
   "metadata": {},
   "outputs": [],
   "source": [
    "#can fit and transform be used for both train and test data?\n",
    "#fit_transform >> train data\n",
    "#transform >> can be used for test data. why? because test data is representative of unseen data, \n",
    "#you can not learn anything from test data\n",
    "\n",
    "\n",
    "#fit_transform>> in data pre processing\n",
    "#fit_predict >> machine learning models >> fit and predict can be used on train data but on test data only predict\n"
   ]
  },
  {
   "cell_type": "code",
   "execution_count": 29,
   "id": "2e329690-bdd7-452a-bb0c-acc974de7bb4",
   "metadata": {},
   "outputs": [],
   "source": [
    "const_imputer = SimpleImputer(strategy='constant', fill_value='Unknown')\n",
    "df_simple['embark_town'] = const_imputer.fit_transform(df[['embark_town']]).ravel()"
   ]
  },
  {
   "cell_type": "code",
   "execution_count": 30,
   "id": "9a9eacff-57ee-419e-81e9-ab8bf90f3522",
   "metadata": {},
   "outputs": [
    {
     "data": {
      "text/plain": [
       "np.int64(0)"
      ]
     },
     "execution_count": 30,
     "metadata": {},
     "output_type": "execute_result"
    }
   ],
   "source": [
    "df_simple['embark_town'].isna().sum()"
   ]
  },
  {
   "cell_type": "code",
   "execution_count": 31,
   "id": "243d6ac5-3e53-4588-bf4f-a78605aaae6a",
   "metadata": {},
   "outputs": [],
   "source": [
    "#there is no difference in using simple imputer class and directly replacing mean median mode\n",
    "#then why simple imputer?\n",
    "#other pre-prepocessing steps (like scaling) have modular structure(class-object)\n",
    "#so for uniformity of all the pre-processing steps imputation has also its own class\n",
    "#very helpful in pipeline"
   ]
  },
  {
   "cell_type": "code",
   "execution_count": 32,
   "id": "b15f5266-c3e1-4eaf-b2df-e0cea34fe2a5",
   "metadata": {},
   "outputs": [
    {
     "data": {
      "text/plain": [
       "np.int64(177)"
      ]
     },
     "execution_count": 32,
     "metadata": {},
     "output_type": "execute_result"
    }
   ],
   "source": [
    "#making a separate column for missing value flag\n",
    "\n",
    "df_indicator = df.copy()\n",
    "\n",
    "#create a binary column> 1 if missing else 0\n",
    "df_indicator.age.isna().sum()"
   ]
  },
  {
   "cell_type": "code",
   "execution_count": 33,
   "id": "d5d4b9fa-861b-4fef-bc8e-21eb053a7349",
   "metadata": {},
   "outputs": [],
   "source": [
    "df_indicator['age_missing'] = df_indicator['age'].isnull().astype(int)"
   ]
  },
  {
   "cell_type": "code",
   "execution_count": 34,
   "id": "db8bdc78-c9ad-4f62-a76b-2f28ea6678c7",
   "metadata": {},
   "outputs": [],
   "source": [
    "#for rest of the misisng value do eith mean or median imputation\n",
    "df_indicator['age'] = median_imputer.fit_transform(df[['age']]).ravel()"
   ]
  },
  {
   "cell_type": "code",
   "execution_count": 35,
   "id": "651f3ae2-bf47-455d-9614-00a279418638",
   "metadata": {},
   "outputs": [
    {
     "data": {
      "application/vnd.microsoft.datawrangler.viewer.v0+json": {
       "columns": [
        {
         "name": "index",
         "rawType": "object",
         "type": "string"
        },
        {
         "name": "0",
         "rawType": "int64",
         "type": "integer"
        }
       ],
       "ref": "c72b27d8-0def-42d7-b459-c3929d817dd0",
       "rows": [
        [
         "survived",
         "0"
        ],
        [
         "pclass",
         "0"
        ],
        [
         "sex",
         "0"
        ],
        [
         "age",
         "0"
        ],
        [
         "sibsp",
         "0"
        ],
        [
         "parch",
         "0"
        ],
        [
         "fare",
         "0"
        ],
        [
         "embarked",
         "2"
        ],
        [
         "class",
         "0"
        ],
        [
         "who",
         "0"
        ],
        [
         "adult_male",
         "0"
        ],
        [
         "deck",
         "688"
        ],
        [
         "embark_town",
         "2"
        ],
        [
         "alive",
         "0"
        ],
        [
         "alone",
         "0"
        ],
        [
         "age_missing",
         "0"
        ]
       ],
       "shape": {
        "columns": 1,
        "rows": 16
       }
      },
      "text/plain": [
       "survived         0\n",
       "pclass           0\n",
       "sex              0\n",
       "age              0\n",
       "sibsp            0\n",
       "parch            0\n",
       "fare             0\n",
       "embarked         2\n",
       "class            0\n",
       "who              0\n",
       "adult_male       0\n",
       "deck           688\n",
       "embark_town      2\n",
       "alive            0\n",
       "alone            0\n",
       "age_missing      0\n",
       "dtype: int64"
      ]
     },
     "execution_count": 35,
     "metadata": {},
     "output_type": "execute_result"
    }
   ],
   "source": [
    "df_indicator.isna().sum()"
   ]
  },
  {
   "cell_type": "code",
   "execution_count": 36,
   "id": "1a8e39f5-9f68-4964-818a-1623db82ae07",
   "metadata": {},
   "outputs": [
    {
     "data": {
      "application/vnd.microsoft.datawrangler.viewer.v0+json": {
       "columns": [
        {
         "name": "index",
         "rawType": "int64",
         "type": "integer"
        },
        {
         "name": "age_missing",
         "rawType": "int64",
         "type": "integer"
        }
       ],
       "ref": "2767274d-2e73-4736-84f9-44c7213e0854",
       "rows": [
        [
         "0",
         "0"
        ],
        [
         "1",
         "0"
        ],
        [
         "2",
         "0"
        ],
        [
         "3",
         "0"
        ],
        [
         "4",
         "0"
        ],
        [
         "5",
         "1"
        ],
        [
         "6",
         "0"
        ],
        [
         "7",
         "0"
        ],
        [
         "8",
         "0"
        ],
        [
         "9",
         "0"
        ],
        [
         "10",
         "0"
        ],
        [
         "11",
         "0"
        ],
        [
         "12",
         "0"
        ],
        [
         "13",
         "0"
        ],
        [
         "14",
         "0"
        ],
        [
         "15",
         "0"
        ],
        [
         "16",
         "0"
        ],
        [
         "17",
         "1"
        ],
        [
         "18",
         "0"
        ],
        [
         "19",
         "1"
        ],
        [
         "20",
         "0"
        ],
        [
         "21",
         "0"
        ],
        [
         "22",
         "0"
        ],
        [
         "23",
         "0"
        ],
        [
         "24",
         "0"
        ],
        [
         "25",
         "0"
        ],
        [
         "26",
         "1"
        ],
        [
         "27",
         "0"
        ],
        [
         "28",
         "1"
        ],
        [
         "29",
         "1"
        ],
        [
         "30",
         "0"
        ],
        [
         "31",
         "1"
        ],
        [
         "32",
         "1"
        ],
        [
         "33",
         "0"
        ],
        [
         "34",
         "0"
        ],
        [
         "35",
         "0"
        ],
        [
         "36",
         "1"
        ],
        [
         "37",
         "0"
        ],
        [
         "38",
         "0"
        ],
        [
         "39",
         "0"
        ],
        [
         "40",
         "0"
        ],
        [
         "41",
         "0"
        ],
        [
         "42",
         "1"
        ],
        [
         "43",
         "0"
        ],
        [
         "44",
         "0"
        ],
        [
         "45",
         "1"
        ],
        [
         "46",
         "1"
        ],
        [
         "47",
         "1"
        ],
        [
         "48",
         "1"
        ],
        [
         "49",
         "0"
        ]
       ],
       "shape": {
        "columns": 1,
        "rows": 891
       }
      },
      "text/plain": [
       "0      0\n",
       "1      0\n",
       "2      0\n",
       "3      0\n",
       "4      0\n",
       "      ..\n",
       "886    0\n",
       "887    0\n",
       "888    1\n",
       "889    0\n",
       "890    0\n",
       "Name: age_missing, Length: 891, dtype: int64"
      ]
     },
     "execution_count": 36,
     "metadata": {},
     "output_type": "execute_result"
    }
   ],
   "source": [
    "df_indicator.age_missing"
   ]
  },
  {
   "cell_type": "code",
   "execution_count": 37,
   "id": "c8514e27-1230-4553-ac49-829ca8f056bc",
   "metadata": {},
   "outputs": [
    {
     "data": {
      "application/vnd.microsoft.datawrangler.viewer.v0+json": {
       "columns": [
        {
         "name": "index",
         "rawType": "int64",
         "type": "integer"
        },
        {
         "name": "age",
         "rawType": "float64",
         "type": "float"
        },
        {
         "name": "fare",
         "rawType": "float64",
         "type": "float"
        },
        {
         "name": "embarked",
         "rawType": "object",
         "type": "unknown"
        },
        {
         "name": "pclass",
         "rawType": "int64",
         "type": "integer"
        }
       ],
       "ref": "c1bb5444-e972-4849-9c90-84cdc4c4ac3d",
       "rows": [
        [
         "0",
         "22.0",
         "7.25",
         "S",
         "3"
        ],
        [
         "1",
         "38.0",
         "71.2833",
         "C",
         "1"
        ],
        [
         "2",
         "26.0",
         "7.925",
         "S",
         "3"
        ],
        [
         "3",
         "35.0",
         "53.1",
         "S",
         "1"
        ],
        [
         "4",
         "35.0",
         "8.05",
         "S",
         "3"
        ],
        [
         "5",
         null,
         "8.4583",
         "Q",
         "3"
        ],
        [
         "6",
         "54.0",
         "51.8625",
         "S",
         "1"
        ],
        [
         "7",
         "2.0",
         "21.075",
         "S",
         "3"
        ],
        [
         "8",
         "27.0",
         "11.1333",
         "S",
         "3"
        ],
        [
         "9",
         "14.0",
         "30.0708",
         "C",
         "2"
        ],
        [
         "10",
         "4.0",
         "16.7",
         "S",
         "3"
        ],
        [
         "11",
         "58.0",
         "26.55",
         "S",
         "1"
        ],
        [
         "12",
         "20.0",
         "8.05",
         "S",
         "3"
        ],
        [
         "13",
         "39.0",
         "31.275",
         "S",
         "3"
        ],
        [
         "14",
         "14.0",
         "7.8542",
         "S",
         "3"
        ],
        [
         "15",
         "55.0",
         "16.0",
         "S",
         "2"
        ],
        [
         "16",
         "2.0",
         "29.125",
         "Q",
         "3"
        ],
        [
         "17",
         null,
         "13.0",
         "S",
         "2"
        ],
        [
         "18",
         "31.0",
         "18.0",
         "S",
         "3"
        ],
        [
         "19",
         null,
         "7.225",
         "C",
         "3"
        ],
        [
         "20",
         "35.0",
         "26.0",
         "S",
         "2"
        ],
        [
         "21",
         "34.0",
         "13.0",
         "S",
         "2"
        ],
        [
         "22",
         "15.0",
         "8.0292",
         "Q",
         "3"
        ],
        [
         "23",
         "28.0",
         "35.5",
         "S",
         "1"
        ],
        [
         "24",
         "8.0",
         "21.075",
         "S",
         "3"
        ],
        [
         "25",
         "38.0",
         "31.3875",
         "S",
         "3"
        ],
        [
         "26",
         null,
         "7.225",
         "C",
         "3"
        ],
        [
         "27",
         "19.0",
         "263.0",
         "S",
         "1"
        ],
        [
         "28",
         null,
         "7.8792",
         "Q",
         "3"
        ],
        [
         "29",
         null,
         "7.8958",
         "S",
         "3"
        ],
        [
         "30",
         "40.0",
         "27.7208",
         "C",
         "1"
        ],
        [
         "31",
         null,
         "146.5208",
         "C",
         "1"
        ],
        [
         "32",
         null,
         "7.75",
         "Q",
         "3"
        ],
        [
         "33",
         "66.0",
         "10.5",
         "S",
         "2"
        ],
        [
         "34",
         "28.0",
         "82.1708",
         "C",
         "1"
        ],
        [
         "35",
         "42.0",
         "52.0",
         "S",
         "1"
        ],
        [
         "36",
         null,
         "7.2292",
         "C",
         "3"
        ],
        [
         "37",
         "21.0",
         "8.05",
         "S",
         "3"
        ],
        [
         "38",
         "18.0",
         "18.0",
         "S",
         "3"
        ],
        [
         "39",
         "14.0",
         "11.2417",
         "C",
         "3"
        ],
        [
         "40",
         "40.0",
         "9.475",
         "S",
         "3"
        ],
        [
         "41",
         "27.0",
         "21.0",
         "S",
         "2"
        ],
        [
         "42",
         null,
         "7.8958",
         "C",
         "3"
        ],
        [
         "43",
         "3.0",
         "41.5792",
         "C",
         "2"
        ],
        [
         "44",
         "19.0",
         "7.8792",
         "Q",
         "3"
        ],
        [
         "45",
         null,
         "8.05",
         "S",
         "3"
        ],
        [
         "46",
         null,
         "15.5",
         "Q",
         "3"
        ],
        [
         "47",
         null,
         "7.75",
         "Q",
         "3"
        ],
        [
         "48",
         null,
         "21.6792",
         "C",
         "3"
        ],
        [
         "49",
         "18.0",
         "17.8",
         "S",
         "3"
        ]
       ],
       "shape": {
        "columns": 4,
        "rows": 891
       }
      },
      "text/html": [
       "<div>\n",
       "<style scoped>\n",
       "    .dataframe tbody tr th:only-of-type {\n",
       "        vertical-align: middle;\n",
       "    }\n",
       "\n",
       "    .dataframe tbody tr th {\n",
       "        vertical-align: top;\n",
       "    }\n",
       "\n",
       "    .dataframe thead th {\n",
       "        text-align: right;\n",
       "    }\n",
       "</style>\n",
       "<table border=\"1\" class=\"dataframe\">\n",
       "  <thead>\n",
       "    <tr style=\"text-align: right;\">\n",
       "      <th></th>\n",
       "      <th>age</th>\n",
       "      <th>fare</th>\n",
       "      <th>embarked</th>\n",
       "      <th>pclass</th>\n",
       "    </tr>\n",
       "  </thead>\n",
       "  <tbody>\n",
       "    <tr>\n",
       "      <th>0</th>\n",
       "      <td>22.0</td>\n",
       "      <td>7.2500</td>\n",
       "      <td>S</td>\n",
       "      <td>3</td>\n",
       "    </tr>\n",
       "    <tr>\n",
       "      <th>1</th>\n",
       "      <td>38.0</td>\n",
       "      <td>71.2833</td>\n",
       "      <td>C</td>\n",
       "      <td>1</td>\n",
       "    </tr>\n",
       "    <tr>\n",
       "      <th>2</th>\n",
       "      <td>26.0</td>\n",
       "      <td>7.9250</td>\n",
       "      <td>S</td>\n",
       "      <td>3</td>\n",
       "    </tr>\n",
       "    <tr>\n",
       "      <th>3</th>\n",
       "      <td>35.0</td>\n",
       "      <td>53.1000</td>\n",
       "      <td>S</td>\n",
       "      <td>1</td>\n",
       "    </tr>\n",
       "    <tr>\n",
       "      <th>4</th>\n",
       "      <td>35.0</td>\n",
       "      <td>8.0500</td>\n",
       "      <td>S</td>\n",
       "      <td>3</td>\n",
       "    </tr>\n",
       "    <tr>\n",
       "      <th>...</th>\n",
       "      <td>...</td>\n",
       "      <td>...</td>\n",
       "      <td>...</td>\n",
       "      <td>...</td>\n",
       "    </tr>\n",
       "    <tr>\n",
       "      <th>886</th>\n",
       "      <td>27.0</td>\n",
       "      <td>13.0000</td>\n",
       "      <td>S</td>\n",
       "      <td>2</td>\n",
       "    </tr>\n",
       "    <tr>\n",
       "      <th>887</th>\n",
       "      <td>19.0</td>\n",
       "      <td>30.0000</td>\n",
       "      <td>S</td>\n",
       "      <td>1</td>\n",
       "    </tr>\n",
       "    <tr>\n",
       "      <th>888</th>\n",
       "      <td>NaN</td>\n",
       "      <td>23.4500</td>\n",
       "      <td>S</td>\n",
       "      <td>3</td>\n",
       "    </tr>\n",
       "    <tr>\n",
       "      <th>889</th>\n",
       "      <td>26.0</td>\n",
       "      <td>30.0000</td>\n",
       "      <td>C</td>\n",
       "      <td>1</td>\n",
       "    </tr>\n",
       "    <tr>\n",
       "      <th>890</th>\n",
       "      <td>32.0</td>\n",
       "      <td>7.7500</td>\n",
       "      <td>Q</td>\n",
       "      <td>3</td>\n",
       "    </tr>\n",
       "  </tbody>\n",
       "</table>\n",
       "<p>891 rows × 4 columns</p>\n",
       "</div>"
      ],
      "text/plain": [
       "      age     fare embarked  pclass\n",
       "0    22.0   7.2500        S       3\n",
       "1    38.0  71.2833        C       1\n",
       "2    26.0   7.9250        S       3\n",
       "3    35.0  53.1000        S       1\n",
       "4    35.0   8.0500        S       3\n",
       "..    ...      ...      ...     ...\n",
       "886  27.0  13.0000        S       2\n",
       "887  19.0  30.0000        S       1\n",
       "888   NaN  23.4500        S       3\n",
       "889  26.0  30.0000        C       1\n",
       "890  32.0   7.7500        Q       3\n",
       "\n",
       "[891 rows x 4 columns]"
      ]
     },
     "execution_count": 37,
     "metadata": {},
     "output_type": "execute_result"
    }
   ],
   "source": [
    "#KNN imputer\n",
    "\n",
    "from sklearn.impute import KNNImputer #using knn algorithm model\n",
    "from sklearn.preprocessing import LabelEncoder #to convert string value to numbers\n",
    "\n",
    "df_knn = df[['age', 'fare', 'embarked', 'pclass']].copy()\n",
    "df_knn"
   ]
  },
  {
   "cell_type": "code",
   "execution_count": 38,
   "id": "23cd9c5a-e499-4027-9d7c-bad545c36a4d",
   "metadata": {},
   "outputs": [
    {
     "data": {
      "application/vnd.microsoft.datawrangler.viewer.v0+json": {
       "columns": [
        {
         "name": "index",
         "rawType": "object",
         "type": "string"
        },
        {
         "name": "0",
         "rawType": "int64",
         "type": "integer"
        }
       ],
       "ref": "ed6c0efb-f6c1-463d-91f1-9e9fa866db1d",
       "rows": [
        [
         "age",
         "177"
        ],
        [
         "fare",
         "0"
        ],
        [
         "embarked",
         "2"
        ],
        [
         "pclass",
         "0"
        ]
       ],
       "shape": {
        "columns": 1,
        "rows": 4
       }
      },
      "text/plain": [
       "age         177\n",
       "fare          0\n",
       "embarked      2\n",
       "pclass        0\n",
       "dtype: int64"
      ]
     },
     "execution_count": 38,
     "metadata": {},
     "output_type": "execute_result"
    }
   ],
   "source": [
    "df_knn.isna().sum()"
   ]
  },
  {
   "cell_type": "code",
   "execution_count": 39,
   "id": "2d82dcc4-bde9-4bc6-92e8-1a73f28fbecd",
   "metadata": {},
   "outputs": [],
   "source": [
    "df_knn['embarked'] = df_knn['embarked'].astype(str)\n",
    "le = LabelEncoder()\n",
    "df_knn['embarked'] = le.fit_transform(df_knn['embarked'])"
   ]
  },
  {
   "cell_type": "code",
   "execution_count": 40,
   "id": "1dc9a36a-62ed-4374-8e3c-caaa0a9f1459",
   "metadata": {},
   "outputs": [
    {
     "data": {
      "application/vnd.microsoft.datawrangler.viewer.v0+json": {
       "columns": [
        {
         "name": "index",
         "rawType": "int64",
         "type": "integer"
        },
        {
         "name": "age",
         "rawType": "float64",
         "type": "float"
        },
        {
         "name": "fare",
         "rawType": "float64",
         "type": "float"
        },
        {
         "name": "embarked",
         "rawType": "int64",
         "type": "integer"
        },
        {
         "name": "pclass",
         "rawType": "int64",
         "type": "integer"
        }
       ],
       "ref": "15667b4a-f54a-499b-ad90-099cfe722a20",
       "rows": [
        [
         "0",
         "22.0",
         "7.25",
         "2",
         "3"
        ],
        [
         "1",
         "38.0",
         "71.2833",
         "0",
         "1"
        ],
        [
         "2",
         "26.0",
         "7.925",
         "2",
         "3"
        ],
        [
         "3",
         "35.0",
         "53.1",
         "2",
         "1"
        ],
        [
         "4",
         "35.0",
         "8.05",
         "2",
         "3"
        ],
        [
         "5",
         null,
         "8.4583",
         "1",
         "3"
        ],
        [
         "6",
         "54.0",
         "51.8625",
         "2",
         "1"
        ],
        [
         "7",
         "2.0",
         "21.075",
         "2",
         "3"
        ],
        [
         "8",
         "27.0",
         "11.1333",
         "2",
         "3"
        ],
        [
         "9",
         "14.0",
         "30.0708",
         "0",
         "2"
        ],
        [
         "10",
         "4.0",
         "16.7",
         "2",
         "3"
        ],
        [
         "11",
         "58.0",
         "26.55",
         "2",
         "1"
        ],
        [
         "12",
         "20.0",
         "8.05",
         "2",
         "3"
        ],
        [
         "13",
         "39.0",
         "31.275",
         "2",
         "3"
        ],
        [
         "14",
         "14.0",
         "7.8542",
         "2",
         "3"
        ],
        [
         "15",
         "55.0",
         "16.0",
         "2",
         "2"
        ],
        [
         "16",
         "2.0",
         "29.125",
         "1",
         "3"
        ],
        [
         "17",
         null,
         "13.0",
         "2",
         "2"
        ],
        [
         "18",
         "31.0",
         "18.0",
         "2",
         "3"
        ],
        [
         "19",
         null,
         "7.225",
         "0",
         "3"
        ],
        [
         "20",
         "35.0",
         "26.0",
         "2",
         "2"
        ],
        [
         "21",
         "34.0",
         "13.0",
         "2",
         "2"
        ],
        [
         "22",
         "15.0",
         "8.0292",
         "1",
         "3"
        ],
        [
         "23",
         "28.0",
         "35.5",
         "2",
         "1"
        ],
        [
         "24",
         "8.0",
         "21.075",
         "2",
         "3"
        ],
        [
         "25",
         "38.0",
         "31.3875",
         "2",
         "3"
        ],
        [
         "26",
         null,
         "7.225",
         "0",
         "3"
        ],
        [
         "27",
         "19.0",
         "263.0",
         "2",
         "1"
        ],
        [
         "28",
         null,
         "7.8792",
         "1",
         "3"
        ],
        [
         "29",
         null,
         "7.8958",
         "2",
         "3"
        ],
        [
         "30",
         "40.0",
         "27.7208",
         "0",
         "1"
        ],
        [
         "31",
         null,
         "146.5208",
         "0",
         "1"
        ],
        [
         "32",
         null,
         "7.75",
         "1",
         "3"
        ],
        [
         "33",
         "66.0",
         "10.5",
         "2",
         "2"
        ],
        [
         "34",
         "28.0",
         "82.1708",
         "0",
         "1"
        ],
        [
         "35",
         "42.0",
         "52.0",
         "2",
         "1"
        ],
        [
         "36",
         null,
         "7.2292",
         "0",
         "3"
        ],
        [
         "37",
         "21.0",
         "8.05",
         "2",
         "3"
        ],
        [
         "38",
         "18.0",
         "18.0",
         "2",
         "3"
        ],
        [
         "39",
         "14.0",
         "11.2417",
         "0",
         "3"
        ],
        [
         "40",
         "40.0",
         "9.475",
         "2",
         "3"
        ],
        [
         "41",
         "27.0",
         "21.0",
         "2",
         "2"
        ],
        [
         "42",
         null,
         "7.8958",
         "0",
         "3"
        ],
        [
         "43",
         "3.0",
         "41.5792",
         "0",
         "2"
        ],
        [
         "44",
         "19.0",
         "7.8792",
         "1",
         "3"
        ],
        [
         "45",
         null,
         "8.05",
         "2",
         "3"
        ],
        [
         "46",
         null,
         "15.5",
         "1",
         "3"
        ],
        [
         "47",
         null,
         "7.75",
         "1",
         "3"
        ],
        [
         "48",
         null,
         "21.6792",
         "0",
         "3"
        ],
        [
         "49",
         "18.0",
         "17.8",
         "2",
         "3"
        ]
       ],
       "shape": {
        "columns": 4,
        "rows": 891
       }
      },
      "text/html": [
       "<div>\n",
       "<style scoped>\n",
       "    .dataframe tbody tr th:only-of-type {\n",
       "        vertical-align: middle;\n",
       "    }\n",
       "\n",
       "    .dataframe tbody tr th {\n",
       "        vertical-align: top;\n",
       "    }\n",
       "\n",
       "    .dataframe thead th {\n",
       "        text-align: right;\n",
       "    }\n",
       "</style>\n",
       "<table border=\"1\" class=\"dataframe\">\n",
       "  <thead>\n",
       "    <tr style=\"text-align: right;\">\n",
       "      <th></th>\n",
       "      <th>age</th>\n",
       "      <th>fare</th>\n",
       "      <th>embarked</th>\n",
       "      <th>pclass</th>\n",
       "    </tr>\n",
       "  </thead>\n",
       "  <tbody>\n",
       "    <tr>\n",
       "      <th>0</th>\n",
       "      <td>22.0</td>\n",
       "      <td>7.2500</td>\n",
       "      <td>2</td>\n",
       "      <td>3</td>\n",
       "    </tr>\n",
       "    <tr>\n",
       "      <th>1</th>\n",
       "      <td>38.0</td>\n",
       "      <td>71.2833</td>\n",
       "      <td>0</td>\n",
       "      <td>1</td>\n",
       "    </tr>\n",
       "    <tr>\n",
       "      <th>2</th>\n",
       "      <td>26.0</td>\n",
       "      <td>7.9250</td>\n",
       "      <td>2</td>\n",
       "      <td>3</td>\n",
       "    </tr>\n",
       "    <tr>\n",
       "      <th>3</th>\n",
       "      <td>35.0</td>\n",
       "      <td>53.1000</td>\n",
       "      <td>2</td>\n",
       "      <td>1</td>\n",
       "    </tr>\n",
       "    <tr>\n",
       "      <th>4</th>\n",
       "      <td>35.0</td>\n",
       "      <td>8.0500</td>\n",
       "      <td>2</td>\n",
       "      <td>3</td>\n",
       "    </tr>\n",
       "    <tr>\n",
       "      <th>...</th>\n",
       "      <td>...</td>\n",
       "      <td>...</td>\n",
       "      <td>...</td>\n",
       "      <td>...</td>\n",
       "    </tr>\n",
       "    <tr>\n",
       "      <th>886</th>\n",
       "      <td>27.0</td>\n",
       "      <td>13.0000</td>\n",
       "      <td>2</td>\n",
       "      <td>2</td>\n",
       "    </tr>\n",
       "    <tr>\n",
       "      <th>887</th>\n",
       "      <td>19.0</td>\n",
       "      <td>30.0000</td>\n",
       "      <td>2</td>\n",
       "      <td>1</td>\n",
       "    </tr>\n",
       "    <tr>\n",
       "      <th>888</th>\n",
       "      <td>NaN</td>\n",
       "      <td>23.4500</td>\n",
       "      <td>2</td>\n",
       "      <td>3</td>\n",
       "    </tr>\n",
       "    <tr>\n",
       "      <th>889</th>\n",
       "      <td>26.0</td>\n",
       "      <td>30.0000</td>\n",
       "      <td>0</td>\n",
       "      <td>1</td>\n",
       "    </tr>\n",
       "    <tr>\n",
       "      <th>890</th>\n",
       "      <td>32.0</td>\n",
       "      <td>7.7500</td>\n",
       "      <td>1</td>\n",
       "      <td>3</td>\n",
       "    </tr>\n",
       "  </tbody>\n",
       "</table>\n",
       "<p>891 rows × 4 columns</p>\n",
       "</div>"
      ],
      "text/plain": [
       "      age     fare  embarked  pclass\n",
       "0    22.0   7.2500         2       3\n",
       "1    38.0  71.2833         0       1\n",
       "2    26.0   7.9250         2       3\n",
       "3    35.0  53.1000         2       1\n",
       "4    35.0   8.0500         2       3\n",
       "..    ...      ...       ...     ...\n",
       "886  27.0  13.0000         2       2\n",
       "887  19.0  30.0000         2       1\n",
       "888   NaN  23.4500         2       3\n",
       "889  26.0  30.0000         0       1\n",
       "890  32.0   7.7500         1       3\n",
       "\n",
       "[891 rows x 4 columns]"
      ]
     },
     "execution_count": 40,
     "metadata": {},
     "output_type": "execute_result"
    }
   ],
   "source": [
    "df_knn"
   ]
  },
  {
   "cell_type": "code",
   "execution_count": 41,
   "id": "be372317-09b8-46e8-b439-7dfcea2171f7",
   "metadata": {},
   "outputs": [],
   "source": [
    "#apply knn imputer\n",
    "knn_imputer = KNNImputer(n_neighbors=5) #take the average of 5 nearest value for imputation\n",
    "df_knn_imputed = pd.DataFrame(knn_imputer.fit_transform(df_knn), columns = df_knn.columns)"
   ]
  },
  {
   "cell_type": "code",
   "execution_count": 44,
   "id": "3003b3ae-1324-4bbc-af8f-95fd95b91332",
   "metadata": {},
   "outputs": [],
   "source": [
    "df_indicator['age_missing'] = df_indicator['age'].isnull().astype(int).isna().sum()"
   ]
  },
  {
   "cell_type": "code",
   "execution_count": null,
   "id": "5f17a1fd",
   "metadata": {},
   "outputs": [
    {
     "data": {
      "application/vnd.microsoft.datawrangler.viewer.v0+json": {
       "columns": [
        {
         "name": "index",
         "rawType": "int64",
         "type": "integer"
        },
        {
         "name": "age",
         "rawType": "float64",
         "type": "float"
        },
        {
         "name": "fare",
         "rawType": "float64",
         "type": "float"
        },
        {
         "name": "embarked",
         "rawType": "float64",
         "type": "float"
        },
        {
         "name": "pclass",
         "rawType": "float64",
         "type": "float"
        }
       ],
       "ref": "6d7e65f6-397a-4766-92ae-b33dc916a72e",
       "rows": [
        [
         "0",
         "22.0",
         "7.25",
         "2.0",
         "3.0"
        ],
        [
         "1",
         "38.0",
         "71.2833",
         "0.0",
         "1.0"
        ],
        [
         "2",
         "26.0",
         "7.925",
         "2.0",
         "3.0"
        ],
        [
         "3",
         "35.0",
         "53.1",
         "2.0",
         "1.0"
        ],
        [
         "4",
         "35.0",
         "8.05",
         "2.0",
         "3.0"
        ],
        [
         "5",
         "23.7",
         "8.4583",
         "1.0",
         "3.0"
        ],
        [
         "6",
         "54.0",
         "51.8625",
         "2.0",
         "1.0"
        ],
        [
         "7",
         "2.0",
         "21.075",
         "2.0",
         "3.0"
        ],
        [
         "8",
         "27.0",
         "11.1333",
         "2.0",
         "3.0"
        ],
        [
         "9",
         "14.0",
         "30.0708",
         "0.0",
         "2.0"
        ],
        [
         "10",
         "4.0",
         "16.7",
         "2.0",
         "3.0"
        ],
        [
         "11",
         "58.0",
         "26.55",
         "2.0",
         "1.0"
        ],
        [
         "12",
         "20.0",
         "8.05",
         "2.0",
         "3.0"
        ],
        [
         "13",
         "39.0",
         "31.275",
         "2.0",
         "3.0"
        ],
        [
         "14",
         "14.0",
         "7.8542",
         "2.0",
         "3.0"
        ],
        [
         "15",
         "55.0",
         "16.0",
         "2.0",
         "2.0"
        ],
        [
         "16",
         "2.0",
         "29.125",
         "1.0",
         "3.0"
        ],
        [
         "17",
         "34.6",
         "13.0",
         "2.0",
         "2.0"
        ],
        [
         "18",
         "31.0",
         "18.0",
         "2.0",
         "3.0"
        ],
        [
         "19",
         "32.5",
         "7.225",
         "0.0",
         "3.0"
        ],
        [
         "20",
         "35.0",
         "26.0",
         "2.0",
         "2.0"
        ],
        [
         "21",
         "34.0",
         "13.0",
         "2.0",
         "2.0"
        ],
        [
         "22",
         "15.0",
         "8.0292",
         "1.0",
         "3.0"
        ],
        [
         "23",
         "28.0",
         "35.5",
         "2.0",
         "1.0"
        ],
        [
         "24",
         "8.0",
         "21.075",
         "2.0",
         "3.0"
        ],
        [
         "25",
         "38.0",
         "31.3875",
         "2.0",
         "3.0"
        ],
        [
         "26",
         "32.5",
         "7.225",
         "0.0",
         "3.0"
        ],
        [
         "27",
         "19.0",
         "263.0",
         "2.0",
         "1.0"
        ],
        [
         "28",
         "42.9",
         "7.8792",
         "1.0",
         "3.0"
        ],
        [
         "29",
         "27.6",
         "7.8958",
         "2.0",
         "3.0"
        ],
        [
         "30",
         "40.0",
         "27.7208",
         "0.0",
         "1.0"
        ],
        [
         "31",
         "21.584",
         "146.5208",
         "0.0",
         "1.0"
        ],
        [
         "32",
         "38.6",
         "7.75",
         "1.0",
         "3.0"
        ],
        [
         "33",
         "66.0",
         "10.5",
         "2.0",
         "2.0"
        ],
        [
         "34",
         "28.0",
         "82.1708",
         "0.0",
         "1.0"
        ],
        [
         "35",
         "42.0",
         "52.0",
         "2.0",
         "1.0"
        ],
        [
         "36",
         "21.3",
         "7.2292",
         "0.0",
         "3.0"
        ],
        [
         "37",
         "21.0",
         "8.05",
         "2.0",
         "3.0"
        ],
        [
         "38",
         "18.0",
         "18.0",
         "2.0",
         "3.0"
        ],
        [
         "39",
         "14.0",
         "11.2417",
         "0.0",
         "3.0"
        ],
        [
         "40",
         "40.0",
         "9.475",
         "2.0",
         "3.0"
        ],
        [
         "41",
         "27.0",
         "21.0",
         "2.0",
         "2.0"
        ],
        [
         "42",
         "22.084",
         "7.8958",
         "0.0",
         "3.0"
        ],
        [
         "43",
         "3.0",
         "41.5792",
         "0.0",
         "2.0"
        ],
        [
         "44",
         "19.0",
         "7.8792",
         "1.0",
         "3.0"
        ],
        [
         "45",
         "28.5",
         "8.05",
         "2.0",
         "3.0"
        ],
        [
         "46",
         "25.8",
         "15.5",
         "1.0",
         "3.0"
        ],
        [
         "47",
         "38.6",
         "7.75",
         "1.0",
         "3.0"
        ],
        [
         "48",
         "9.2",
         "21.6792",
         "0.0",
         "3.0"
        ],
        [
         "49",
         "18.0",
         "17.8",
         "2.0",
         "3.0"
        ]
       ],
       "shape": {
        "columns": 4,
        "rows": 891
       }
      },
      "text/html": [
       "<div>\n",
       "<style scoped>\n",
       "    .dataframe tbody tr th:only-of-type {\n",
       "        vertical-align: middle;\n",
       "    }\n",
       "\n",
       "    .dataframe tbody tr th {\n",
       "        vertical-align: top;\n",
       "    }\n",
       "\n",
       "    .dataframe thead th {\n",
       "        text-align: right;\n",
       "    }\n",
       "</style>\n",
       "<table border=\"1\" class=\"dataframe\">\n",
       "  <thead>\n",
       "    <tr style=\"text-align: right;\">\n",
       "      <th></th>\n",
       "      <th>age</th>\n",
       "      <th>fare</th>\n",
       "      <th>embarked</th>\n",
       "      <th>pclass</th>\n",
       "    </tr>\n",
       "  </thead>\n",
       "  <tbody>\n",
       "    <tr>\n",
       "      <th>0</th>\n",
       "      <td>22.0</td>\n",
       "      <td>7.2500</td>\n",
       "      <td>2.0</td>\n",
       "      <td>3.0</td>\n",
       "    </tr>\n",
       "    <tr>\n",
       "      <th>1</th>\n",
       "      <td>38.0</td>\n",
       "      <td>71.2833</td>\n",
       "      <td>0.0</td>\n",
       "      <td>1.0</td>\n",
       "    </tr>\n",
       "    <tr>\n",
       "      <th>2</th>\n",
       "      <td>26.0</td>\n",
       "      <td>7.9250</td>\n",
       "      <td>2.0</td>\n",
       "      <td>3.0</td>\n",
       "    </tr>\n",
       "    <tr>\n",
       "      <th>3</th>\n",
       "      <td>35.0</td>\n",
       "      <td>53.1000</td>\n",
       "      <td>2.0</td>\n",
       "      <td>1.0</td>\n",
       "    </tr>\n",
       "    <tr>\n",
       "      <th>4</th>\n",
       "      <td>35.0</td>\n",
       "      <td>8.0500</td>\n",
       "      <td>2.0</td>\n",
       "      <td>3.0</td>\n",
       "    </tr>\n",
       "    <tr>\n",
       "      <th>...</th>\n",
       "      <td>...</td>\n",
       "      <td>...</td>\n",
       "      <td>...</td>\n",
       "      <td>...</td>\n",
       "    </tr>\n",
       "    <tr>\n",
       "      <th>886</th>\n",
       "      <td>27.0</td>\n",
       "      <td>13.0000</td>\n",
       "      <td>2.0</td>\n",
       "      <td>2.0</td>\n",
       "    </tr>\n",
       "    <tr>\n",
       "      <th>887</th>\n",
       "      <td>19.0</td>\n",
       "      <td>30.0000</td>\n",
       "      <td>2.0</td>\n",
       "      <td>1.0</td>\n",
       "    </tr>\n",
       "    <tr>\n",
       "      <th>888</th>\n",
       "      <td>27.8</td>\n",
       "      <td>23.4500</td>\n",
       "      <td>2.0</td>\n",
       "      <td>3.0</td>\n",
       "    </tr>\n",
       "    <tr>\n",
       "      <th>889</th>\n",
       "      <td>26.0</td>\n",
       "      <td>30.0000</td>\n",
       "      <td>0.0</td>\n",
       "      <td>1.0</td>\n",
       "    </tr>\n",
       "    <tr>\n",
       "      <th>890</th>\n",
       "      <td>32.0</td>\n",
       "      <td>7.7500</td>\n",
       "      <td>1.0</td>\n",
       "      <td>3.0</td>\n",
       "    </tr>\n",
       "  </tbody>\n",
       "</table>\n",
       "<p>891 rows × 4 columns</p>\n",
       "</div>"
      ],
      "text/plain": [
       "      age     fare  embarked  pclass\n",
       "0    22.0   7.2500       2.0     3.0\n",
       "1    38.0  71.2833       0.0     1.0\n",
       "2    26.0   7.9250       2.0     3.0\n",
       "3    35.0  53.1000       2.0     1.0\n",
       "4    35.0   8.0500       2.0     3.0\n",
       "..    ...      ...       ...     ...\n",
       "886  27.0  13.0000       2.0     2.0\n",
       "887  19.0  30.0000       2.0     1.0\n",
       "888  27.8  23.4500       2.0     3.0\n",
       "889  26.0  30.0000       0.0     1.0\n",
       "890  32.0   7.7500       1.0     3.0\n",
       "\n",
       "[891 rows x 4 columns]"
      ]
     },
     "execution_count": 67,
     "metadata": {},
     "output_type": "execute_result"
    }
   ],
   "source": [
    "df_knn_imputed "
   ]
  },
  {
   "cell_type": "code",
   "execution_count": 45,
   "id": "6bf16db8-3c8f-4ff1-86f4-fae2e6700d66",
   "metadata": {},
   "outputs": [
    {
     "name": "stdout",
     "output_type": "stream",
     "text": [
      "    age     fare  pclass  sibsp\n",
      "0  22.0   7.2500     3.0    1.0\n",
      "1  38.0  71.2833     1.0    1.0\n",
      "2  26.0   7.9250     3.0    0.0\n",
      "3  35.0  53.1000     1.0    1.0\n",
      "4  35.0   8.0500     3.0    0.0\n"
     ]
    }
   ],
   "source": [
    "#mice>> multivariate imputation by chained equation\n",
    "#Multivariate imputer that estimates each feature from all the others.\n",
    "# A strategy for imputing missing values by modeling each feature\n",
    "# with missing values as a function of other features in a round-robin fashion.\n",
    "#by default BayesianRidge() is used\n",
    "\n",
    "\n",
    "from sklearn.experimental import enable_iterative_imputer \n",
    "from sklearn.impute import IterativeImputer\n",
    "\n",
    "df_mice = df[['age', 'fare', 'pclass', 'sibsp']].copy()\n",
    "\n",
    "mice_imputer = IterativeImputer(random_state=42)\n",
    "df_mice_imputed = pd.DataFrame(mice_imputer.fit_transform(df_mice), columns=df_mice.columns)\n",
    "\n",
    "print(df_mice_imputed.head())\n"
   ]
  },
  {
   "cell_type": "code",
   "execution_count": null,
   "id": "2da718ad-34ed-4659-b8a9-1d1900f2c6d7",
   "metadata": {},
   "outputs": [
    {
     "data": {
      "application/vnd.microsoft.datawrangler.viewer.v0+json": {
       "columns": [
        {
         "name": "index",
         "rawType": "object",
         "type": "string"
        },
        {
         "name": "0",
         "rawType": "int64",
         "type": "integer"
        }
       ],
       "ref": "fc534e4a-d4f0-4cfa-bfe6-e1aaa2ab78f2",
       "rows": [
        [
         "age",
         "0"
        ],
        [
         "fare",
         "0"
        ],
        [
         "pclass",
         "0"
        ],
        [
         "sibsp",
         "0"
        ]
       ],
       "shape": {
        "columns": 1,
        "rows": 4
       }
      },
      "text/plain": [
       "age       0\n",
       "fare      0\n",
       "pclass    0\n",
       "sibsp     0\n",
       "dtype: int64"
      ]
     },
     "execution_count": 45,
     "metadata": {},
     "output_type": "execute_result"
    }
   ],
   "source": [
    "df_mice_imputed.isna().sum()"
   ]
  },
  {
   "cell_type": "code",
   "execution_count": null,
   "id": "fecd9a11-0bed-4300-b81e-6f5776b9100f",
   "metadata": {},
   "outputs": [
    {
     "data": {
      "application/vnd.microsoft.datawrangler.viewer.v0+json": {
       "columns": [
        {
         "name": "index",
         "rawType": "int64",
         "type": "integer"
        },
        {
         "name": "age",
         "rawType": "float64",
         "type": "float"
        },
        {
         "name": "fare",
         "rawType": "float64",
         "type": "float"
        }
       ],
       "ref": "1658e7af-7df7-48ac-a56f-5ad115ce9732",
       "rows": [
        [
         "803",
         "0.42",
         "8.5167"
        ],
        [
         "755",
         "0.67",
         "14.5"
        ],
        [
         "644",
         "0.75",
         "19.2583"
        ],
        [
         "469",
         "0.75",
         "19.2583"
        ],
        [
         "78",
         "0.83",
         "29.0"
        ]
       ],
       "shape": {
        "columns": 2,
        "rows": 5
       }
      },
      "text/html": [
       "<div>\n",
       "<style scoped>\n",
       "    .dataframe tbody tr th:only-of-type {\n",
       "        vertical-align: middle;\n",
       "    }\n",
       "\n",
       "    .dataframe tbody tr th {\n",
       "        vertical-align: top;\n",
       "    }\n",
       "\n",
       "    .dataframe thead th {\n",
       "        text-align: right;\n",
       "    }\n",
       "</style>\n",
       "<table border=\"1\" class=\"dataframe\">\n",
       "  <thead>\n",
       "    <tr style=\"text-align: right;\">\n",
       "      <th></th>\n",
       "      <th>age</th>\n",
       "      <th>fare</th>\n",
       "    </tr>\n",
       "  </thead>\n",
       "  <tbody>\n",
       "    <tr>\n",
       "      <th>803</th>\n",
       "      <td>0.42</td>\n",
       "      <td>8.5167</td>\n",
       "    </tr>\n",
       "    <tr>\n",
       "      <th>755</th>\n",
       "      <td>0.67</td>\n",
       "      <td>14.5000</td>\n",
       "    </tr>\n",
       "    <tr>\n",
       "      <th>644</th>\n",
       "      <td>0.75</td>\n",
       "      <td>19.2583</td>\n",
       "    </tr>\n",
       "    <tr>\n",
       "      <th>469</th>\n",
       "      <td>0.75</td>\n",
       "      <td>19.2583</td>\n",
       "    </tr>\n",
       "    <tr>\n",
       "      <th>78</th>\n",
       "      <td>0.83</td>\n",
       "      <td>29.0000</td>\n",
       "    </tr>\n",
       "  </tbody>\n",
       "</table>\n",
       "</div>"
      ],
      "text/plain": [
       "      age     fare\n",
       "803  0.42   8.5167\n",
       "755  0.67  14.5000\n",
       "644  0.75  19.2583\n",
       "469  0.75  19.2583\n",
       "78   0.83  29.0000"
      ]
     },
     "execution_count": 46,
     "metadata": {},
     "output_type": "execute_result"
    }
   ],
   "source": [
    "#interpolation\n",
    "df_interp = df[['age', 'fare']].copy()\n",
    "\n",
    "df_interp = df_interp.sort_values(by='age')\n",
    "df_interp['age'] = df_interp['age'].interpolate(method='linear')\n",
    "df_interp['fare'] = df_interp['fare'].interpolate(method='linear')\n",
    "\n",
    "\n",
    "df_interp.head()"
   ]
  },
  {
   "cell_type": "code",
   "execution_count": null,
   "id": "8746a76c-36e4-4a2b-bfec-859cabe33484",
   "metadata": {},
   "outputs": [
    {
     "data": {
      "application/vnd.microsoft.datawrangler.viewer.v0+json": {
       "columns": [
        {
         "name": "index",
         "rawType": "object",
         "type": "string"
        },
        {
         "name": "0",
         "rawType": "int64",
         "type": "integer"
        }
       ],
       "ref": "7ac2a0e9-62bb-4e4f-84e9-9fbd02307489",
       "rows": [
        [
         "age",
         "0"
        ],
        [
         "fare",
         "0"
        ]
       ],
       "shape": {
        "columns": 1,
        "rows": 2
       }
      },
      "text/plain": [
       "age     0\n",
       "fare    0\n",
       "dtype: int64"
      ]
     },
     "execution_count": 47,
     "metadata": {},
     "output_type": "execute_result"
    }
   ],
   "source": [
    "df_interp.isna().sum()"
   ]
  },
  {
   "cell_type": "code",
   "execution_count": null,
   "id": "055ec3f6-fbda-44ca-9fd2-5812c053dc6b",
   "metadata": {},
   "outputs": [],
   "source": [
    "#for time series imputation"
   ]
  },
  {
   "cell_type": "code",
   "execution_count": null,
   "id": "554557e8-adbd-416a-9221-ca8153e5da7e",
   "metadata": {},
   "outputs": [],
   "source": [
    "import pandas as pd\n",
    "import numpy as np\n",
    "import matplotlib.pyplot as plt\n",
    "\n",
    "# Create a date range\n",
    "date_range = pd.date_range(start='2024-01-01', periods=30, freq='D')\n",
    "temps = np.random.normal(25, 3, size=30)\n",
    "temps[[5, 8, 12, 20]] = np.nan  # introduce missing values\n",
    "\n",
    "df = pd.DataFrame({'date': date_range, 'temp': temps}).set_index('date')"
   ]
  },
  {
   "cell_type": "code",
   "execution_count": null,
   "id": "5a9f81d9-8f69-46b4-9093-4aa5ee3919d4",
   "metadata": {},
   "outputs": [
    {
     "data": {
      "application/vnd.microsoft.datawrangler.viewer.v0+json": {
       "columns": [
        {
         "name": "date",
         "rawType": "datetime64[ns]",
         "type": "datetime"
        },
        {
         "name": "temp",
         "rawType": "float64",
         "type": "float"
        }
       ],
       "ref": "f3208008-1d07-4061-8d1c-6673ac8058d8",
       "rows": [
        [
         "2024-01-01 00:00:00",
         "20.324264606872138"
        ],
        [
         "2024-01-02 00:00:00",
         "22.817003560536314"
        ],
        [
         "2024-01-03 00:00:00",
         "27.06895019892242"
        ],
        [
         "2024-01-04 00:00:00",
         "26.887210821642867"
        ],
        [
         "2024-01-05 00:00:00",
         "26.505269390469046"
        ],
        [
         "2024-01-06 00:00:00",
         null
        ],
        [
         "2024-01-07 00:00:00",
         "25.777222302960546"
        ],
        [
         "2024-01-08 00:00:00",
         "27.277200745790974"
        ],
        [
         "2024-01-09 00:00:00",
         null
        ],
        [
         "2024-01-10 00:00:00",
         "27.817692665464698"
        ],
        [
         "2024-01-11 00:00:00",
         "23.91473655919954"
        ],
        [
         "2024-01-12 00:00:00",
         "22.702144014237312"
        ],
        [
         "2024-01-13 00:00:00",
         null
        ],
        [
         "2024-01-14 00:00:00",
         "27.723289300149524"
        ],
        [
         "2024-01-15 00:00:00",
         "24.698249576852508"
        ],
        [
         "2024-01-16 00:00:00",
         "23.05965466144002"
        ],
        [
         "2024-01-17 00:00:00",
         "25.505325159737538"
        ],
        [
         "2024-01-18 00:00:00",
         "28.320440238962934"
        ],
        [
         "2024-01-19 00:00:00",
         "26.36240606896892"
        ],
        [
         "2024-01-20 00:00:00",
         "27.272123610396413"
        ],
        [
         "2024-01-21 00:00:00",
         null
        ],
        [
         "2024-01-22 00:00:00",
         "25.156634818793787"
        ],
        [
         "2024-01-23 00:00:00",
         "22.680341112847515"
        ],
        [
         "2024-01-24 00:00:00",
         "31.388365015391784"
        ],
        [
         "2024-01-25 00:00:00",
         "24.611657416751935"
        ],
        [
         "2024-01-26 00:00:00",
         "20.90025571151185"
        ],
        [
         "2024-01-27 00:00:00",
         "26.38289874630394"
        ],
        [
         "2024-01-28 00:00:00",
         "26.690021784894043"
        ],
        [
         "2024-01-29 00:00:00",
         "28.290642764601827"
        ],
        [
         "2024-01-30 00:00:00",
         "27.0478168189635"
        ]
       ],
       "shape": {
        "columns": 1,
        "rows": 30
       }
      },
      "text/html": [
       "<div>\n",
       "<style scoped>\n",
       "    .dataframe tbody tr th:only-of-type {\n",
       "        vertical-align: middle;\n",
       "    }\n",
       "\n",
       "    .dataframe tbody tr th {\n",
       "        vertical-align: top;\n",
       "    }\n",
       "\n",
       "    .dataframe thead th {\n",
       "        text-align: right;\n",
       "    }\n",
       "</style>\n",
       "<table border=\"1\" class=\"dataframe\">\n",
       "  <thead>\n",
       "    <tr style=\"text-align: right;\">\n",
       "      <th></th>\n",
       "      <th>temp</th>\n",
       "    </tr>\n",
       "    <tr>\n",
       "      <th>date</th>\n",
       "      <th></th>\n",
       "    </tr>\n",
       "  </thead>\n",
       "  <tbody>\n",
       "    <tr>\n",
       "      <th>2024-01-01</th>\n",
       "      <td>20.324265</td>\n",
       "    </tr>\n",
       "    <tr>\n",
       "      <th>2024-01-02</th>\n",
       "      <td>22.817004</td>\n",
       "    </tr>\n",
       "    <tr>\n",
       "      <th>2024-01-03</th>\n",
       "      <td>27.068950</td>\n",
       "    </tr>\n",
       "    <tr>\n",
       "      <th>2024-01-04</th>\n",
       "      <td>26.887211</td>\n",
       "    </tr>\n",
       "    <tr>\n",
       "      <th>2024-01-05</th>\n",
       "      <td>26.505269</td>\n",
       "    </tr>\n",
       "    <tr>\n",
       "      <th>2024-01-06</th>\n",
       "      <td>NaN</td>\n",
       "    </tr>\n",
       "    <tr>\n",
       "      <th>2024-01-07</th>\n",
       "      <td>25.777222</td>\n",
       "    </tr>\n",
       "    <tr>\n",
       "      <th>2024-01-08</th>\n",
       "      <td>27.277201</td>\n",
       "    </tr>\n",
       "    <tr>\n",
       "      <th>2024-01-09</th>\n",
       "      <td>NaN</td>\n",
       "    </tr>\n",
       "    <tr>\n",
       "      <th>2024-01-10</th>\n",
       "      <td>27.817693</td>\n",
       "    </tr>\n",
       "    <tr>\n",
       "      <th>2024-01-11</th>\n",
       "      <td>23.914737</td>\n",
       "    </tr>\n",
       "    <tr>\n",
       "      <th>2024-01-12</th>\n",
       "      <td>22.702144</td>\n",
       "    </tr>\n",
       "    <tr>\n",
       "      <th>2024-01-13</th>\n",
       "      <td>NaN</td>\n",
       "    </tr>\n",
       "    <tr>\n",
       "      <th>2024-01-14</th>\n",
       "      <td>27.723289</td>\n",
       "    </tr>\n",
       "    <tr>\n",
       "      <th>2024-01-15</th>\n",
       "      <td>24.698250</td>\n",
       "    </tr>\n",
       "    <tr>\n",
       "      <th>2024-01-16</th>\n",
       "      <td>23.059655</td>\n",
       "    </tr>\n",
       "    <tr>\n",
       "      <th>2024-01-17</th>\n",
       "      <td>25.505325</td>\n",
       "    </tr>\n",
       "    <tr>\n",
       "      <th>2024-01-18</th>\n",
       "      <td>28.320440</td>\n",
       "    </tr>\n",
       "    <tr>\n",
       "      <th>2024-01-19</th>\n",
       "      <td>26.362406</td>\n",
       "    </tr>\n",
       "    <tr>\n",
       "      <th>2024-01-20</th>\n",
       "      <td>27.272124</td>\n",
       "    </tr>\n",
       "    <tr>\n",
       "      <th>2024-01-21</th>\n",
       "      <td>NaN</td>\n",
       "    </tr>\n",
       "    <tr>\n",
       "      <th>2024-01-22</th>\n",
       "      <td>25.156635</td>\n",
       "    </tr>\n",
       "    <tr>\n",
       "      <th>2024-01-23</th>\n",
       "      <td>22.680341</td>\n",
       "    </tr>\n",
       "    <tr>\n",
       "      <th>2024-01-24</th>\n",
       "      <td>31.388365</td>\n",
       "    </tr>\n",
       "    <tr>\n",
       "      <th>2024-01-25</th>\n",
       "      <td>24.611657</td>\n",
       "    </tr>\n",
       "    <tr>\n",
       "      <th>2024-01-26</th>\n",
       "      <td>20.900256</td>\n",
       "    </tr>\n",
       "    <tr>\n",
       "      <th>2024-01-27</th>\n",
       "      <td>26.382899</td>\n",
       "    </tr>\n",
       "    <tr>\n",
       "      <th>2024-01-28</th>\n",
       "      <td>26.690022</td>\n",
       "    </tr>\n",
       "    <tr>\n",
       "      <th>2024-01-29</th>\n",
       "      <td>28.290643</td>\n",
       "    </tr>\n",
       "    <tr>\n",
       "      <th>2024-01-30</th>\n",
       "      <td>27.047817</td>\n",
       "    </tr>\n",
       "  </tbody>\n",
       "</table>\n",
       "</div>"
      ],
      "text/plain": [
       "                 temp\n",
       "date                 \n",
       "2024-01-01  20.324265\n",
       "2024-01-02  22.817004\n",
       "2024-01-03  27.068950\n",
       "2024-01-04  26.887211\n",
       "2024-01-05  26.505269\n",
       "2024-01-06        NaN\n",
       "2024-01-07  25.777222\n",
       "2024-01-08  27.277201\n",
       "2024-01-09        NaN\n",
       "2024-01-10  27.817693\n",
       "2024-01-11  23.914737\n",
       "2024-01-12  22.702144\n",
       "2024-01-13        NaN\n",
       "2024-01-14  27.723289\n",
       "2024-01-15  24.698250\n",
       "2024-01-16  23.059655\n",
       "2024-01-17  25.505325\n",
       "2024-01-18  28.320440\n",
       "2024-01-19  26.362406\n",
       "2024-01-20  27.272124\n",
       "2024-01-21        NaN\n",
       "2024-01-22  25.156635\n",
       "2024-01-23  22.680341\n",
       "2024-01-24  31.388365\n",
       "2024-01-25  24.611657\n",
       "2024-01-26  20.900256\n",
       "2024-01-27  26.382899\n",
       "2024-01-28  26.690022\n",
       "2024-01-29  28.290643\n",
       "2024-01-30  27.047817"
      ]
     },
     "execution_count": 50,
     "metadata": {},
     "output_type": "execute_result"
    }
   ],
   "source": [
    "df"
   ]
  },
  {
   "cell_type": "code",
   "execution_count": null,
   "id": "f135eadb-4bc0-44b3-b748-11e973d1caf6",
   "metadata": {},
   "outputs": [
    {
     "data": {
      "application/vnd.microsoft.datawrangler.viewer.v0+json": {
       "columns": [
        {
         "name": "index",
         "rawType": "object",
         "type": "string"
        },
        {
         "name": "0",
         "rawType": "int64",
         "type": "integer"
        }
       ],
       "ref": "1e137c8d-95dd-46de-a7c4-03377f93b2e7",
       "rows": [
        [
         "temp",
         "4"
        ]
       ],
       "shape": {
        "columns": 1,
        "rows": 1
       }
      },
      "text/plain": [
       "temp    4\n",
       "dtype: int64"
      ]
     },
     "execution_count": 51,
     "metadata": {},
     "output_type": "execute_result"
    }
   ],
   "source": [
    "df.isnull().sum()"
   ]
  },
  {
   "cell_type": "code",
   "execution_count": null,
   "id": "c2325807-fa2c-4589-8edc-57b391abc601",
   "metadata": {},
   "outputs": [
    {
     "name": "stderr",
     "output_type": "stream",
     "text": [
      "C:\\Users\\Punjab School\\AppData\\Local\\Temp\\ipykernel_4964\\1858682576.py:4: FutureWarning: Series.fillna with 'method' is deprecated and will raise in a future version. Use obj.ffill() or obj.bfill() instead.\n",
      "  df_ffill['temp'] = df_ffill['temp'].fillna(method='ffill')\n"
     ]
    }
   ],
   "source": [
    "#ffill >> filled by previous value\n",
    "\n",
    "df_ffill = df.copy()\n",
    "df_ffill['temp'] = df_ffill['temp'].fillna(method='ffill')\n"
   ]
  },
  {
   "cell_type": "code",
   "execution_count": null,
   "id": "68235a8f-3b26-47df-8800-970f222858f3",
   "metadata": {},
   "outputs": [
    {
     "data": {
      "application/vnd.microsoft.datawrangler.viewer.v0+json": {
       "columns": [
        {
         "name": "date",
         "rawType": "datetime64[ns]",
         "type": "datetime"
        },
        {
         "name": "temp",
         "rawType": "float64",
         "type": "float"
        }
       ],
       "ref": "d49696f6-4eee-4cd6-adcc-5f7bbb45e7c5",
       "rows": [
        [
         "2024-01-01 00:00:00",
         "20.324264606872138"
        ],
        [
         "2024-01-02 00:00:00",
         "22.817003560536314"
        ],
        [
         "2024-01-03 00:00:00",
         "27.06895019892242"
        ],
        [
         "2024-01-04 00:00:00",
         "26.887210821642867"
        ],
        [
         "2024-01-05 00:00:00",
         "26.505269390469046"
        ],
        [
         "2024-01-06 00:00:00",
         "26.505269390469046"
        ],
        [
         "2024-01-07 00:00:00",
         "25.777222302960546"
        ],
        [
         "2024-01-08 00:00:00",
         "27.277200745790974"
        ],
        [
         "2024-01-09 00:00:00",
         "27.277200745790974"
        ],
        [
         "2024-01-10 00:00:00",
         "27.817692665464698"
        ],
        [
         "2024-01-11 00:00:00",
         "23.91473655919954"
        ],
        [
         "2024-01-12 00:00:00",
         "22.702144014237312"
        ],
        [
         "2024-01-13 00:00:00",
         "22.702144014237312"
        ],
        [
         "2024-01-14 00:00:00",
         "27.723289300149524"
        ],
        [
         "2024-01-15 00:00:00",
         "24.698249576852508"
        ],
        [
         "2024-01-16 00:00:00",
         "23.05965466144002"
        ],
        [
         "2024-01-17 00:00:00",
         "25.505325159737538"
        ],
        [
         "2024-01-18 00:00:00",
         "28.320440238962934"
        ],
        [
         "2024-01-19 00:00:00",
         "26.36240606896892"
        ],
        [
         "2024-01-20 00:00:00",
         "27.272123610396413"
        ],
        [
         "2024-01-21 00:00:00",
         "27.272123610396413"
        ],
        [
         "2024-01-22 00:00:00",
         "25.156634818793787"
        ],
        [
         "2024-01-23 00:00:00",
         "22.680341112847515"
        ],
        [
         "2024-01-24 00:00:00",
         "31.388365015391784"
        ],
        [
         "2024-01-25 00:00:00",
         "24.611657416751935"
        ],
        [
         "2024-01-26 00:00:00",
         "20.90025571151185"
        ],
        [
         "2024-01-27 00:00:00",
         "26.38289874630394"
        ],
        [
         "2024-01-28 00:00:00",
         "26.690021784894043"
        ],
        [
         "2024-01-29 00:00:00",
         "28.290642764601827"
        ],
        [
         "2024-01-30 00:00:00",
         "27.0478168189635"
        ]
       ],
       "shape": {
        "columns": 1,
        "rows": 30
       }
      },
      "text/html": [
       "<div>\n",
       "<style scoped>\n",
       "    .dataframe tbody tr th:only-of-type {\n",
       "        vertical-align: middle;\n",
       "    }\n",
       "\n",
       "    .dataframe tbody tr th {\n",
       "        vertical-align: top;\n",
       "    }\n",
       "\n",
       "    .dataframe thead th {\n",
       "        text-align: right;\n",
       "    }\n",
       "</style>\n",
       "<table border=\"1\" class=\"dataframe\">\n",
       "  <thead>\n",
       "    <tr style=\"text-align: right;\">\n",
       "      <th></th>\n",
       "      <th>temp</th>\n",
       "    </tr>\n",
       "    <tr>\n",
       "      <th>date</th>\n",
       "      <th></th>\n",
       "    </tr>\n",
       "  </thead>\n",
       "  <tbody>\n",
       "    <tr>\n",
       "      <th>2024-01-01</th>\n",
       "      <td>20.324265</td>\n",
       "    </tr>\n",
       "    <tr>\n",
       "      <th>2024-01-02</th>\n",
       "      <td>22.817004</td>\n",
       "    </tr>\n",
       "    <tr>\n",
       "      <th>2024-01-03</th>\n",
       "      <td>27.068950</td>\n",
       "    </tr>\n",
       "    <tr>\n",
       "      <th>2024-01-04</th>\n",
       "      <td>26.887211</td>\n",
       "    </tr>\n",
       "    <tr>\n",
       "      <th>2024-01-05</th>\n",
       "      <td>26.505269</td>\n",
       "    </tr>\n",
       "    <tr>\n",
       "      <th>2024-01-06</th>\n",
       "      <td>26.505269</td>\n",
       "    </tr>\n",
       "    <tr>\n",
       "      <th>2024-01-07</th>\n",
       "      <td>25.777222</td>\n",
       "    </tr>\n",
       "    <tr>\n",
       "      <th>2024-01-08</th>\n",
       "      <td>27.277201</td>\n",
       "    </tr>\n",
       "    <tr>\n",
       "      <th>2024-01-09</th>\n",
       "      <td>27.277201</td>\n",
       "    </tr>\n",
       "    <tr>\n",
       "      <th>2024-01-10</th>\n",
       "      <td>27.817693</td>\n",
       "    </tr>\n",
       "    <tr>\n",
       "      <th>2024-01-11</th>\n",
       "      <td>23.914737</td>\n",
       "    </tr>\n",
       "    <tr>\n",
       "      <th>2024-01-12</th>\n",
       "      <td>22.702144</td>\n",
       "    </tr>\n",
       "    <tr>\n",
       "      <th>2024-01-13</th>\n",
       "      <td>22.702144</td>\n",
       "    </tr>\n",
       "    <tr>\n",
       "      <th>2024-01-14</th>\n",
       "      <td>27.723289</td>\n",
       "    </tr>\n",
       "    <tr>\n",
       "      <th>2024-01-15</th>\n",
       "      <td>24.698250</td>\n",
       "    </tr>\n",
       "    <tr>\n",
       "      <th>2024-01-16</th>\n",
       "      <td>23.059655</td>\n",
       "    </tr>\n",
       "    <tr>\n",
       "      <th>2024-01-17</th>\n",
       "      <td>25.505325</td>\n",
       "    </tr>\n",
       "    <tr>\n",
       "      <th>2024-01-18</th>\n",
       "      <td>28.320440</td>\n",
       "    </tr>\n",
       "    <tr>\n",
       "      <th>2024-01-19</th>\n",
       "      <td>26.362406</td>\n",
       "    </tr>\n",
       "    <tr>\n",
       "      <th>2024-01-20</th>\n",
       "      <td>27.272124</td>\n",
       "    </tr>\n",
       "    <tr>\n",
       "      <th>2024-01-21</th>\n",
       "      <td>27.272124</td>\n",
       "    </tr>\n",
       "    <tr>\n",
       "      <th>2024-01-22</th>\n",
       "      <td>25.156635</td>\n",
       "    </tr>\n",
       "    <tr>\n",
       "      <th>2024-01-23</th>\n",
       "      <td>22.680341</td>\n",
       "    </tr>\n",
       "    <tr>\n",
       "      <th>2024-01-24</th>\n",
       "      <td>31.388365</td>\n",
       "    </tr>\n",
       "    <tr>\n",
       "      <th>2024-01-25</th>\n",
       "      <td>24.611657</td>\n",
       "    </tr>\n",
       "    <tr>\n",
       "      <th>2024-01-26</th>\n",
       "      <td>20.900256</td>\n",
       "    </tr>\n",
       "    <tr>\n",
       "      <th>2024-01-27</th>\n",
       "      <td>26.382899</td>\n",
       "    </tr>\n",
       "    <tr>\n",
       "      <th>2024-01-28</th>\n",
       "      <td>26.690022</td>\n",
       "    </tr>\n",
       "    <tr>\n",
       "      <th>2024-01-29</th>\n",
       "      <td>28.290643</td>\n",
       "    </tr>\n",
       "    <tr>\n",
       "      <th>2024-01-30</th>\n",
       "      <td>27.047817</td>\n",
       "    </tr>\n",
       "  </tbody>\n",
       "</table>\n",
       "</div>"
      ],
      "text/plain": [
       "                 temp\n",
       "date                 \n",
       "2024-01-01  20.324265\n",
       "2024-01-02  22.817004\n",
       "2024-01-03  27.068950\n",
       "2024-01-04  26.887211\n",
       "2024-01-05  26.505269\n",
       "2024-01-06  26.505269\n",
       "2024-01-07  25.777222\n",
       "2024-01-08  27.277201\n",
       "2024-01-09  27.277201\n",
       "2024-01-10  27.817693\n",
       "2024-01-11  23.914737\n",
       "2024-01-12  22.702144\n",
       "2024-01-13  22.702144\n",
       "2024-01-14  27.723289\n",
       "2024-01-15  24.698250\n",
       "2024-01-16  23.059655\n",
       "2024-01-17  25.505325\n",
       "2024-01-18  28.320440\n",
       "2024-01-19  26.362406\n",
       "2024-01-20  27.272124\n",
       "2024-01-21  27.272124\n",
       "2024-01-22  25.156635\n",
       "2024-01-23  22.680341\n",
       "2024-01-24  31.388365\n",
       "2024-01-25  24.611657\n",
       "2024-01-26  20.900256\n",
       "2024-01-27  26.382899\n",
       "2024-01-28  26.690022\n",
       "2024-01-29  28.290643\n",
       "2024-01-30  27.047817"
      ]
     },
     "execution_count": 53,
     "metadata": {},
     "output_type": "execute_result"
    }
   ],
   "source": [
    "df_ffill"
   ]
  },
  {
   "cell_type": "code",
   "execution_count": null,
   "id": "2cdb8ace-1567-4e33-b9a5-1c4a270f06d6",
   "metadata": {},
   "outputs": [
    {
     "name": "stderr",
     "output_type": "stream",
     "text": [
      "C:\\Users\\Punjab School\\AppData\\Local\\Temp\\ipykernel_4964\\2245154985.py:4: FutureWarning: Series.fillna with 'method' is deprecated and will raise in a future version. Use obj.ffill() or obj.bfill() instead.\n",
      "  df_bfill['temp'] = df_bfill['temp'].fillna(method='bfill')\n"
     ]
    }
   ],
   "source": [
    "#bfill >> backward fill>> next value\n",
    "\n",
    "df_bfill = df.copy()\n",
    "df_bfill['temp'] = df_bfill['temp'].fillna(method='bfill')\n"
   ]
  },
  {
   "cell_type": "code",
   "execution_count": null,
   "id": "52e11847-6fcb-4ae9-9182-5fbc9d8c22e7",
   "metadata": {},
   "outputs": [],
   "source": [
    "#rolling mean\n",
    "\n",
    "df_roll = df.copy()\n",
    "df_roll['temp'] = df_roll['temp'].fillna(df_roll['temp'].rolling(window=2, min_periods=1).mean())"
   ]
  },
  {
   "cell_type": "code",
   "execution_count": null,
   "id": "a40d4d85-6d39-48a0-8dbc-847b959d0c24",
   "metadata": {},
   "outputs": [
    {
     "data": {
      "application/vnd.microsoft.datawrangler.viewer.v0+json": {
       "columns": [
        {
         "name": "date",
         "rawType": "datetime64[ns]",
         "type": "datetime"
        },
        {
         "name": "temp",
         "rawType": "float64",
         "type": "float"
        }
       ],
       "ref": "3dffd2b8-c769-43c7-ad81-ef08af38cb80",
       "rows": [
        [
         "2024-01-01 00:00:00",
         "20.324264606872138"
        ],
        [
         "2024-01-02 00:00:00",
         "22.817003560536314"
        ],
        [
         "2024-01-03 00:00:00",
         "27.06895019892242"
        ],
        [
         "2024-01-04 00:00:00",
         "26.887210821642867"
        ],
        [
         "2024-01-05 00:00:00",
         "26.505269390469046"
        ],
        [
         "2024-01-06 00:00:00",
         "26.505269390469046"
        ],
        [
         "2024-01-07 00:00:00",
         "25.777222302960546"
        ],
        [
         "2024-01-08 00:00:00",
         "27.277200745790974"
        ],
        [
         "2024-01-09 00:00:00",
         "27.277200745790974"
        ],
        [
         "2024-01-10 00:00:00",
         "27.817692665464698"
        ],
        [
         "2024-01-11 00:00:00",
         "23.91473655919954"
        ],
        [
         "2024-01-12 00:00:00",
         "22.702144014237312"
        ],
        [
         "2024-01-13 00:00:00",
         "22.702144014237312"
        ],
        [
         "2024-01-14 00:00:00",
         "27.723289300149524"
        ],
        [
         "2024-01-15 00:00:00",
         "24.698249576852508"
        ],
        [
         "2024-01-16 00:00:00",
         "23.05965466144002"
        ],
        [
         "2024-01-17 00:00:00",
         "25.505325159737538"
        ],
        [
         "2024-01-18 00:00:00",
         "28.320440238962934"
        ],
        [
         "2024-01-19 00:00:00",
         "26.36240606896892"
        ],
        [
         "2024-01-20 00:00:00",
         "27.272123610396413"
        ],
        [
         "2024-01-21 00:00:00",
         "27.272123610396413"
        ],
        [
         "2024-01-22 00:00:00",
         "25.156634818793787"
        ],
        [
         "2024-01-23 00:00:00",
         "22.680341112847515"
        ],
        [
         "2024-01-24 00:00:00",
         "31.388365015391784"
        ],
        [
         "2024-01-25 00:00:00",
         "24.611657416751935"
        ],
        [
         "2024-01-26 00:00:00",
         "20.90025571151185"
        ],
        [
         "2024-01-27 00:00:00",
         "26.38289874630394"
        ],
        [
         "2024-01-28 00:00:00",
         "26.690021784894043"
        ],
        [
         "2024-01-29 00:00:00",
         "28.290642764601827"
        ],
        [
         "2024-01-30 00:00:00",
         "27.0478168189635"
        ]
       ],
       "shape": {
        "columns": 1,
        "rows": 30
       }
      },
      "text/html": [
       "<div>\n",
       "<style scoped>\n",
       "    .dataframe tbody tr th:only-of-type {\n",
       "        vertical-align: middle;\n",
       "    }\n",
       "\n",
       "    .dataframe tbody tr th {\n",
       "        vertical-align: top;\n",
       "    }\n",
       "\n",
       "    .dataframe thead th {\n",
       "        text-align: right;\n",
       "    }\n",
       "</style>\n",
       "<table border=\"1\" class=\"dataframe\">\n",
       "  <thead>\n",
       "    <tr style=\"text-align: right;\">\n",
       "      <th></th>\n",
       "      <th>temp</th>\n",
       "    </tr>\n",
       "    <tr>\n",
       "      <th>date</th>\n",
       "      <th></th>\n",
       "    </tr>\n",
       "  </thead>\n",
       "  <tbody>\n",
       "    <tr>\n",
       "      <th>2024-01-01</th>\n",
       "      <td>20.324265</td>\n",
       "    </tr>\n",
       "    <tr>\n",
       "      <th>2024-01-02</th>\n",
       "      <td>22.817004</td>\n",
       "    </tr>\n",
       "    <tr>\n",
       "      <th>2024-01-03</th>\n",
       "      <td>27.068950</td>\n",
       "    </tr>\n",
       "    <tr>\n",
       "      <th>2024-01-04</th>\n",
       "      <td>26.887211</td>\n",
       "    </tr>\n",
       "    <tr>\n",
       "      <th>2024-01-05</th>\n",
       "      <td>26.505269</td>\n",
       "    </tr>\n",
       "    <tr>\n",
       "      <th>2024-01-06</th>\n",
       "      <td>26.505269</td>\n",
       "    </tr>\n",
       "    <tr>\n",
       "      <th>2024-01-07</th>\n",
       "      <td>25.777222</td>\n",
       "    </tr>\n",
       "    <tr>\n",
       "      <th>2024-01-08</th>\n",
       "      <td>27.277201</td>\n",
       "    </tr>\n",
       "    <tr>\n",
       "      <th>2024-01-09</th>\n",
       "      <td>27.277201</td>\n",
       "    </tr>\n",
       "    <tr>\n",
       "      <th>2024-01-10</th>\n",
       "      <td>27.817693</td>\n",
       "    </tr>\n",
       "    <tr>\n",
       "      <th>2024-01-11</th>\n",
       "      <td>23.914737</td>\n",
       "    </tr>\n",
       "    <tr>\n",
       "      <th>2024-01-12</th>\n",
       "      <td>22.702144</td>\n",
       "    </tr>\n",
       "    <tr>\n",
       "      <th>2024-01-13</th>\n",
       "      <td>22.702144</td>\n",
       "    </tr>\n",
       "    <tr>\n",
       "      <th>2024-01-14</th>\n",
       "      <td>27.723289</td>\n",
       "    </tr>\n",
       "    <tr>\n",
       "      <th>2024-01-15</th>\n",
       "      <td>24.698250</td>\n",
       "    </tr>\n",
       "    <tr>\n",
       "      <th>2024-01-16</th>\n",
       "      <td>23.059655</td>\n",
       "    </tr>\n",
       "    <tr>\n",
       "      <th>2024-01-17</th>\n",
       "      <td>25.505325</td>\n",
       "    </tr>\n",
       "    <tr>\n",
       "      <th>2024-01-18</th>\n",
       "      <td>28.320440</td>\n",
       "    </tr>\n",
       "    <tr>\n",
       "      <th>2024-01-19</th>\n",
       "      <td>26.362406</td>\n",
       "    </tr>\n",
       "    <tr>\n",
       "      <th>2024-01-20</th>\n",
       "      <td>27.272124</td>\n",
       "    </tr>\n",
       "    <tr>\n",
       "      <th>2024-01-21</th>\n",
       "      <td>27.272124</td>\n",
       "    </tr>\n",
       "    <tr>\n",
       "      <th>2024-01-22</th>\n",
       "      <td>25.156635</td>\n",
       "    </tr>\n",
       "    <tr>\n",
       "      <th>2024-01-23</th>\n",
       "      <td>22.680341</td>\n",
       "    </tr>\n",
       "    <tr>\n",
       "      <th>2024-01-24</th>\n",
       "      <td>31.388365</td>\n",
       "    </tr>\n",
       "    <tr>\n",
       "      <th>2024-01-25</th>\n",
       "      <td>24.611657</td>\n",
       "    </tr>\n",
       "    <tr>\n",
       "      <th>2024-01-26</th>\n",
       "      <td>20.900256</td>\n",
       "    </tr>\n",
       "    <tr>\n",
       "      <th>2024-01-27</th>\n",
       "      <td>26.382899</td>\n",
       "    </tr>\n",
       "    <tr>\n",
       "      <th>2024-01-28</th>\n",
       "      <td>26.690022</td>\n",
       "    </tr>\n",
       "    <tr>\n",
       "      <th>2024-01-29</th>\n",
       "      <td>28.290643</td>\n",
       "    </tr>\n",
       "    <tr>\n",
       "      <th>2024-01-30</th>\n",
       "      <td>27.047817</td>\n",
       "    </tr>\n",
       "  </tbody>\n",
       "</table>\n",
       "</div>"
      ],
      "text/plain": [
       "                 temp\n",
       "date                 \n",
       "2024-01-01  20.324265\n",
       "2024-01-02  22.817004\n",
       "2024-01-03  27.068950\n",
       "2024-01-04  26.887211\n",
       "2024-01-05  26.505269\n",
       "2024-01-06  26.505269\n",
       "2024-01-07  25.777222\n",
       "2024-01-08  27.277201\n",
       "2024-01-09  27.277201\n",
       "2024-01-10  27.817693\n",
       "2024-01-11  23.914737\n",
       "2024-01-12  22.702144\n",
       "2024-01-13  22.702144\n",
       "2024-01-14  27.723289\n",
       "2024-01-15  24.698250\n",
       "2024-01-16  23.059655\n",
       "2024-01-17  25.505325\n",
       "2024-01-18  28.320440\n",
       "2024-01-19  26.362406\n",
       "2024-01-20  27.272124\n",
       "2024-01-21  27.272124\n",
       "2024-01-22  25.156635\n",
       "2024-01-23  22.680341\n",
       "2024-01-24  31.388365\n",
       "2024-01-25  24.611657\n",
       "2024-01-26  20.900256\n",
       "2024-01-27  26.382899\n",
       "2024-01-28  26.690022\n",
       "2024-01-29  28.290643\n",
       "2024-01-30  27.047817"
      ]
     },
     "execution_count": 56,
     "metadata": {},
     "output_type": "execute_result"
    }
   ],
   "source": [
    "df_roll"
   ]
  },
  {
   "cell_type": "code",
   "execution_count": null,
   "id": "7a3deda6-fcae-470c-a3b4-4616b322fad6",
   "metadata": {},
   "outputs": [],
   "source": [
    "#linear interpolation >> Straight line between known points.\n",
    "df_interp = df.copy()\n",
    "df_interp['temp'] = df_interp['temp'].interpolate(method='linear')"
   ]
  },
  {
   "cell_type": "code",
   "execution_count": null,
   "id": "c1827aa0-e93e-4cde-bc1a-9addbe0b714a",
   "metadata": {},
   "outputs": [
    {
     "data": {
      "image/png": "[encoded data removed]",
      "text/plain": [
       "<Figure size 1200x600 with 1 Axes>"
      ]
     },
     "metadata": {},
     "output_type": "display_data"
    }
   ],
   "source": [
    "plt.figure(figsize=(12, 6))\n",
    "plt.plot(df, label='Original', marker='o')\n",
    "plt.plot(df_ffill, label='Forward Fill', linestyle='--')\n",
    "plt.plot(df_interp, label='Interpolated', linestyle=':')\n",
    "plt.plot(df_roll, label='Rolling Mean', linestyle='-.')\n",
    "plt.legend()\n",
    "plt.title(\"Time Series Missing Value Treatments\")\n",
    "plt.grid(True)\n",
    "plt.show()\n"
   ]
  },
  {
   "cell_type": "code",
   "execution_count": null,
   "id": "ef26383c-0d6a-45f1-b74c-516a93a87962",
   "metadata": {},
   "outputs": [],
   "source": [
    "import pandas as pd\n",
    "import numpy as np\n",
    "import matplotlib.pyplot as plt\n",
    "\n",
    "# Create time series with missing values\n",
    "dates = pd.date_range('2023-01-01', periods=10)\n",
    "values = [10, np.nan, np.nan, 16, 18, np.nan, 22, 24, np.nan, 28]\n",
    "\n",
    "df = pd.DataFrame({'date': dates, 'value': values}).set_index('date')\n"
   ]
  },
  {
   "cell_type": "code",
   "execution_count": null,
   "id": "fdcac600-50ca-4d39-aea2-406643f675a0",
   "metadata": {},
   "outputs": [],
   "source": [
    "#time based interpolation\n",
    "df_time = df.copy()\n",
    "df_time['value'] = df_time['value'].interpolate(method='time')\n",
    "\n",
    "# Like linear, but adjusts for actual time difference between dates., Best for: Irregular time intervals"
   ]
  },
  {
   "cell_type": "code",
   "execution_count": null,
   "id": "fc4f3e82-77b7-43e3-abb2-36adb0bb576f",
   "metadata": {},
   "outputs": [],
   "source": [
    "#index interploation>> Interpolates along the index (useful if index is numeric or time)\n",
    "df_index = df.copy()\n",
    "df_index['value'] = df_index['value'].interpolate(method='index')\n"
   ]
  },
  {
   "cell_type": "code",
   "execution_count": null,
   "id": "21849dbb-4174-4545-acde-bb9e7e8c71c5",
   "metadata": {},
   "outputs": [],
   "source": [
    "#polynomial interpolation>> Best for: Curved trends (e.g., parabolic),Risky with outliers or short data \n",
    "df_poly = df.copy()\n",
    "df_poly['value'] = df_poly['value'].interpolate(method='polynomial', order=2)\n"
   ]
  },
  {
   "cell_type": "code",
   "execution_count": null,
   "id": "2cdc7e4e-aa2c-4f4f-b4dc-2d7007baa47e",
   "metadata": {},
   "outputs": [],
   "source": [
    "#Spline Interpolation>> Fits a smooth spline curve through points., smooth transitions, needs enough data points"
   ]
  },
  {
   "cell_type": "code",
   "execution_count": null,
   "id": "b9abfa80-404c-436d-a12f-de7b4afc5e6a",
   "metadata": {},
   "outputs": [],
   "source": [
    "df_spline = df.copy()\n",
    "df_spline['value'] = df_spline['value'].interpolate(method='spline', order=2)\n"
   ]
  },
  {
   "cell_type": "raw",
   "id": "af25e83e-8db9-4cf2-9bfe-6295c3da0138",
   "metadata": {},
   "source": [
    "Method: linear\n",
    "Description: Straight line between points\n",
    "Good For: Smooth data\n",
    "Code: .interpolate('linear')\n",
    "\n",
    "Method: time\n",
    "Description: Adjusts for time intervals\n",
    "Good For: Time series with gaps\n",
    "Code: .interpolate('time')\n",
    "\n",
    "Method: index\n",
    "Description: Uses index values\n",
    "Good For: Numeric or datetime index\n",
    "Code: .interpolate('index')\n",
    "\n",
    "Method: polynomial\n",
    "Description: Fits polynomial curve\n",
    "Good For: Curved trends\n",
    "Code: .interpolate('polynomial', order=2)\n",
    "\n",
    "Method: spline\n",
    "Description: Smooth spline curve\n",
    "Good For: Smooth data\n",
    "Code: .interpolate('spline', order=2)\n",
    "\n",
    "Method: pad (forward fill)\n",
    "Description: Copies previous value\n",
    "Good For: Inventory data, counters\n",
    "Code: .fillna(method='ffill')\n",
    "\n",
    "Method: bfill (backward fill)\n",
    "Description: Copies next value\n",
    "Good For: Rare use, potentially risky\n",
    "Code: .fillna(method='bfill')"
   ]
  },
  {
   "cell_type": "raw",
   "id": "a65a6541-52bd-4b56-85a7-ad0532eee045",
   "metadata": {},
   "source": [
    "#data interpolation\n",
    "\n",
    "Interpolation is the process of estimating unknown data points within the range of a known set of data points.\n",
    "\n",
    "Unlike imputation using mean/median, interpolation uses neighboring values and their order — very useful for time series or continuous numerical data."
   ]
  },
  {
   "cell_type": "code",
   "execution_count": null,
   "id": "43fad21f-5043-417a-9f98-a1fbca70b67a",
   "metadata": {},
   "outputs": [],
   "source": [
    "#why interpolate\n",
    "#preserve trends, User temporal structure, works on continuous data\n",
    "\n",
    "\n",
    "#major type of interpolation\n",
    "\n",
    "#linear interpolation\n",
    "#cubic interpolation\n",
    "#polynomial interpolation"
   ]
  },
  {
   "cell_type": "code",
   "execution_count": null,
   "id": "fdb3dbf9-79cb-4524-bcb4-b85c17c39d29",
   "metadata": {},
   "outputs": [
    {
     "data": {
      "image/png": "[encoded data removed]",
      "text/plain": [
       "<Figure size 1200x600 with 3 Axes>"
      ]
     },
     "metadata": {},
     "output_type": "display_data"
    }
   ],
   "source": [
    "import numpy as np\n",
    "import matplotlib.pyplot as plt\n",
    "from scipy.interpolate import interp1d\n",
    "\n",
    "# Original data\n",
    "x = np.array([1, 2, 3, 4, 5])\n",
    "y_linear = np.array([1, 3, 5, 7, 9])       # Linear\n",
    "y_cubic = np.array([1, 8, 27, 64, 125])    # y = x^3 (Cubic)\n",
    "\n",
    "# New x values (interpolated points)\n",
    "x_new = np.linspace(1, 5, 100)\n",
    "\n",
    "#Linear Interpolation\n",
    "f_linear = interp1d(x, y_linear, kind='linear')\n",
    "y_linear_interp = f_linear(x_new)\n",
    "\n",
    "#Cubic Interpolation \n",
    "f_cubic = interp1d(x, y_cubic, kind='cubic')\n",
    "y_cubic_interp = f_cubic(x_new)\n",
    "\n",
    "#Polynomial Interpolation (e.g., degree 3 fit) \n",
    "# We'll use numpy's polyfit + polyval for general polynomial\n",
    "coeffs = np.polyfit(x, y_cubic, deg=4)   # Fit a 4th-degree polynomial\n",
    "y_poly_interp = np.polyval(coeffs, x_new)\n",
    "\n",
    "# Plotting \n",
    "plt.figure(figsize=(12, 6))\n",
    "\n",
    "# Linear\n",
    "plt.subplot(1, 3, 1)\n",
    "plt.plot(x, y_linear, 'o', label='Original')\n",
    "plt.plot(x_new, y_linear_interp, '-', label='Linear Interpolation')\n",
    "plt.title(\"Linear Interpolation\")\n",
    "plt.legend()\n",
    "plt.grid()\n",
    "\n",
    "# Cubic\n",
    "plt.subplot(1, 3, 2)\n",
    "plt.plot(x, y_cubic, 'o', label='Original')\n",
    "plt.plot(x_new, y_cubic_interp, '-', label='Cubic Interpolation')\n",
    "plt.title(\"Cubic Interpolation\")\n",
    "plt.legend()\n",
    "plt.grid()\n",
    "\n",
    "# Polynomial Fit (degree 3)\n",
    "plt.subplot(1, 3, 3)\n",
    "plt.plot(x, y_cubic, 'o', label='Original')\n",
    "plt.plot(x_new, y_poly_interp, '-', label='Polynomial (deg=4)')\n",
    "plt.title(\"Polynomial Interpolation (deg=3)\")\n",
    "plt.legend()\n",
    "plt.grid()\n",
    "\n",
    "plt.tight_layout()\n",
    "plt.show()"
   ]
  },
  {
   "cell_type": "code",
   "execution_count": null,
   "id": "e217e7e9-f618-4d8b-94e6-5f94e4506786",
   "metadata": {},
   "outputs": [],
   "source": []
  },
  {
   "cell_type": "code",
   "execution_count": null,
   "id": "5355ff51-f41f-4fe2-b45a-de41f6ac8cf2",
   "metadata": {},
   "outputs": [],
   "source": []
  },
  {
   "cell_type": "code",
   "execution_count": null,
   "id": "587de4f4-4d43-4a4f-8846-6e77181dd9b4",
   "metadata": {},
   "outputs": [],
   "source": []
  }
 ],
 "metadata": {
  "kernelspec": {
   "display_name": "Python 3",
   "language": "python",
   "name": "python3"
  },
  "language_info": {
   "codemirror_mode": {
    "name": "ipython",
    "version": 3
   },
   "file_extension": ".py",
   "mimetype": "text/x-python",
   "name": "python",
   "nbconvert_exporter": "python",
   "pygments_lexer": "ipython3",
   "version": "3.13.3"
  }
 },
 "nbformat": 4,
 "nbformat_minor": 5
}
